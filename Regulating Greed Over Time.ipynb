{
 "cells": [
  {
   "cell_type": "code",
   "execution_count": 1,
   "metadata": {},
   "outputs": [],
   "source": [
    "%load_ext line_profiler\n",
    "%matplotlib inline\n",
    "\n",
    "import numpy as np\n",
    "import pandas as pd\n",
    "import matplotlib.pyplot as plt\n",
    "import seaborn as sns\n",
    "\n",
    "import sys\n",
    "import time\n",
    "import pickle\n",
    "\n",
    "from collections import Counter, defaultdict, OrderedDict, namedtuple\n",
    "import random\n",
    "import copy\n",
    "import bisect\n",
    "import heapq\n",
    "\n",
    "import multiprocessing as mp\n",
    "from multiprocessing import Pool\n",
    "\n",
    "import warnings\n",
    "warnings.filterwarnings('error')"
   ]
  },
  {
   "cell_type": "code",
   "execution_count": 2,
   "metadata": {},
   "outputs": [],
   "source": [
    "records=pd.read_csv('data/ydata-fp-td-clicks-v2_0.20111005', \n",
    "                    sep=' ',\n",
    "                    names=['timestamp','id','clicked'],\n",
    "                    usecols=[0,1,2],)"
   ]
  },
  {
   "cell_type": "code",
   "execution_count": 3,
   "metadata": {
    "scrolled": true
   },
   "outputs": [
    {
     "data": {
      "text/html": [
       "<div>\n",
       "<style scoped>\n",
       "    .dataframe tbody tr th:only-of-type {\n",
       "        vertical-align: middle;\n",
       "    }\n",
       "\n",
       "    .dataframe tbody tr th {\n",
       "        vertical-align: top;\n",
       "    }\n",
       "\n",
       "    .dataframe thead th {\n",
       "        text-align: right;\n",
       "    }\n",
       "</style>\n",
       "<table border=\"1\" class=\"dataframe\">\n",
       "  <thead>\n",
       "    <tr style=\"text-align: right;\">\n",
       "      <th></th>\n",
       "      <th>timestamp</th>\n",
       "      <th>id</th>\n",
       "      <th>clicked</th>\n",
       "    </tr>\n",
       "  </thead>\n",
       "  <tbody>\n",
       "    <tr>\n",
       "      <th>0</th>\n",
       "      <td>1317772490</td>\n",
       "      <td>id-570650</td>\n",
       "      <td>0</td>\n",
       "    </tr>\n",
       "    <tr>\n",
       "      <th>1</th>\n",
       "      <td>1317772491</td>\n",
       "      <td>id-570332</td>\n",
       "      <td>0</td>\n",
       "    </tr>\n",
       "    <tr>\n",
       "      <th>2</th>\n",
       "      <td>1317772492</td>\n",
       "      <td>id-568437</td>\n",
       "      <td>0</td>\n",
       "    </tr>\n",
       "    <tr>\n",
       "      <th>3</th>\n",
       "      <td>1317772492</td>\n",
       "      <td>id-571362</td>\n",
       "      <td>0</td>\n",
       "    </tr>\n",
       "    <tr>\n",
       "      <th>4</th>\n",
       "      <td>1317772492</td>\n",
       "      <td>id-568890</td>\n",
       "      <td>0</td>\n",
       "    </tr>\n",
       "  </tbody>\n",
       "</table>\n",
       "</div>"
      ],
      "text/plain": [
       "    timestamp         id  clicked\n",
       "0  1317772490  id-570650        0\n",
       "1  1317772491  id-570332        0\n",
       "2  1317772492  id-568437        0\n",
       "3  1317772492  id-571362        0\n",
       "4  1317772492  id-568890        0"
      ]
     },
     "execution_count": 3,
     "metadata": {},
     "output_type": "execute_result"
    }
   ],
   "source": [
    "records.head()"
   ]
  },
  {
   "cell_type": "code",
   "execution_count": 4,
   "metadata": {},
   "outputs": [
    {
     "data": {
      "text/html": [
       "<div>\n",
       "<style scoped>\n",
       "    .dataframe tbody tr th:only-of-type {\n",
       "        vertical-align: middle;\n",
       "    }\n",
       "\n",
       "    .dataframe tbody tr th {\n",
       "        vertical-align: top;\n",
       "    }\n",
       "\n",
       "    .dataframe thead th {\n",
       "        text-align: right;\n",
       "    }\n",
       "</style>\n",
       "<table border=\"1\" class=\"dataframe\">\n",
       "  <thead>\n",
       "    <tr style=\"text-align: right;\">\n",
       "      <th></th>\n",
       "      <th>timestamp</th>\n",
       "      <th>id</th>\n",
       "      <th>clicked</th>\n",
       "    </tr>\n",
       "  </thead>\n",
       "  <tbody>\n",
       "    <tr>\n",
       "      <th>1373872</th>\n",
       "      <td>1317858893</td>\n",
       "      <td>id-575230</td>\n",
       "      <td>0</td>\n",
       "    </tr>\n",
       "    <tr>\n",
       "      <th>1373873</th>\n",
       "      <td>1317858893</td>\n",
       "      <td>id-575157</td>\n",
       "      <td>0</td>\n",
       "    </tr>\n",
       "    <tr>\n",
       "      <th>1373874</th>\n",
       "      <td>1317858893</td>\n",
       "      <td>id-575000</td>\n",
       "      <td>0</td>\n",
       "    </tr>\n",
       "    <tr>\n",
       "      <th>1373875</th>\n",
       "      <td>1317858893</td>\n",
       "      <td>id-572306</td>\n",
       "      <td>0</td>\n",
       "    </tr>\n",
       "    <tr>\n",
       "      <th>1373876</th>\n",
       "      <td>1317858893</td>\n",
       "      <td>id-575115</td>\n",
       "      <td>0</td>\n",
       "    </tr>\n",
       "  </tbody>\n",
       "</table>\n",
       "</div>"
      ],
      "text/plain": [
       "          timestamp         id  clicked\n",
       "1373872  1317858893  id-575230        0\n",
       "1373873  1317858893  id-575157        0\n",
       "1373874  1317858893  id-575000        0\n",
       "1373875  1317858893  id-572306        0\n",
       "1373876  1317858893  id-575115        0"
      ]
     },
     "execution_count": 4,
     "metadata": {},
     "output_type": "execute_result"
    }
   ],
   "source": [
    "records.tail()"
   ]
  },
  {
   "cell_type": "code",
   "execution_count": 5,
   "metadata": {},
   "outputs": [],
   "source": [
    "with open('save/lifespans','rb') as f:\n",
    "    lifespans = pickle.load(f)"
   ]
  },
  {
   "cell_type": "code",
   "execution_count": 6,
   "metadata": {
    "scrolled": true
   },
   "outputs": [
    {
     "name": "stdout",
     "output_type": "stream",
     "text": [
      "24 1317830699 1317783600 13.083055555555555\n"
     ]
    },
    {
     "data": {
      "text/plain": [
       "51"
      ]
     },
     "execution_count": 6,
     "metadata": {},
     "output_type": "execute_result"
    },
    {
     "data": {
      "image/png": "[encoded data removed]",
      "text/plain": [
       "<Figure size 720x1440 with 1 Axes>"
      ]
     },
     "metadata": {
      "needs_background": "light"
     },
     "output_type": "display_data"
    }
   ],
   "source": [
    "plt.figure(figsize=(10,20))\n",
    "y=0\n",
    "for start,stop in lifespans.values():\n",
    "    plt.hlines(y, xmin=start, xmax=stop)\n",
    "    #plt.scatter(np.arange(start,stop,1000),[y for j in range(start,stop,1000)], marker='.')\n",
    "    y+=1\n",
    "plt.xlabel('timestamp')\n",
    "plt.ylabel('article ids')\n",
    "plt.xlim(1317513291, 1318809293)\n",
    "plt.ylim(0,652)\n",
    "\n",
    "l=[] # min heap with items like: (stop, start, arm)\n",
    "global_max=0\n",
    "for i in lifespans.items():\n",
    "    arm=i[0]\n",
    "    start,stop=i[1]\n",
    "    while l and l[0][0]<start:\n",
    "        heapq.heappop(l)\n",
    "        if len(l)>=24:\n",
    "            min_stop=l[0][0]\n",
    "            max_start=max(l, key=lambda i:i[1])[1]\n",
    "            if min_stop-max_start>=3600*12:\n",
    "                plt.axvline(min_stop)\n",
    "                plt.axvline(max_start)\n",
    "                pool=[i[2] for i in l]\n",
    "                print(len(l), min_stop, max_start, (min_stop-max_start)/3600)\n",
    "    heapq.heappush(l,(stop,start,arm)) # min stop (earliest expiring)\n",
    "    \n",
    "    global_max=max(global_max, len(l))\n",
    "global_max"
   ]
  },
  {
   "cell_type": "code",
   "execution_count": 7,
   "metadata": {
    "scrolled": true
   },
   "outputs": [
    {
     "data": {
      "text/html": [
       "<div>\n",
       "<style scoped>\n",
       "    .dataframe tbody tr th:only-of-type {\n",
       "        vertical-align: middle;\n",
       "    }\n",
       "\n",
       "    .dataframe tbody tr th {\n",
       "        vertical-align: top;\n",
       "    }\n",
       "\n",
       "    .dataframe thead th {\n",
       "        text-align: right;\n",
       "    }\n",
       "</style>\n",
       "<table border=\"1\" class=\"dataframe\">\n",
       "  <thead>\n",
       "    <tr style=\"text-align: right;\">\n",
       "      <th></th>\n",
       "      <th>timestamp</th>\n",
       "      <th>id</th>\n",
       "      <th>clicked</th>\n",
       "    </tr>\n",
       "  </thead>\n",
       "  <tbody>\n",
       "    <tr>\n",
       "      <th>350160</th>\n",
       "      <td>1317783600</td>\n",
       "      <td>id-572194</td>\n",
       "      <td>0</td>\n",
       "    </tr>\n",
       "    <tr>\n",
       "      <th>350161</th>\n",
       "      <td>1317783600</td>\n",
       "      <td>id-572582</td>\n",
       "      <td>0</td>\n",
       "    </tr>\n",
       "    <tr>\n",
       "      <th>350162</th>\n",
       "      <td>1317783600</td>\n",
       "      <td>id-569364</td>\n",
       "      <td>0</td>\n",
       "    </tr>\n",
       "    <tr>\n",
       "      <th>350163</th>\n",
       "      <td>1317783600</td>\n",
       "      <td>id-569270</td>\n",
       "      <td>0</td>\n",
       "    </tr>\n",
       "    <tr>\n",
       "      <th>350164</th>\n",
       "      <td>1317783600</td>\n",
       "      <td>id-573053</td>\n",
       "      <td>0</td>\n",
       "    </tr>\n",
       "  </tbody>\n",
       "</table>\n",
       "</div>"
      ],
      "text/plain": [
       "         timestamp         id  clicked\n",
       "350160  1317783600  id-572194        0\n",
       "350161  1317783600  id-572582        0\n",
       "350162  1317783600  id-569364        0\n",
       "350163  1317783600  id-569270        0\n",
       "350164  1317783600  id-573053        0"
      ]
     },
     "execution_count": 7,
     "metadata": {},
     "output_type": "execute_result"
    }
   ],
   "source": [
    "start=records[records.timestamp==1317783600].index[0]\n",
    "stop=records[records.timestamp==1317830699].index[-1]\n",
    "slice=records.iloc[start:stop+1]\n",
    "slice.head()"
   ]
  },
  {
   "cell_type": "code",
   "execution_count": 9,
   "metadata": {},
   "outputs": [
    {
     "data": {
      "text/plain": [
       "<matplotlib.axes._subplots.AxesSubplot at 0x104bc2128>"
      ]
     },
     "execution_count": 9,
     "metadata": {},
     "output_type": "execute_result"
    },
    {
     "data": {
      "image/png": "[encoded data removed]",
      "text/plain": [
       "<Figure size 432x288 with 1 Axes>"
      ]
     },
     "metadata": {
      "needs_background": "light"
     },
     "output_type": "display_data"
    }
   ],
   "source": [
    "sns.distplot(records.timestamp)"
   ]
  },
  {
   "cell_type": "code",
   "execution_count": 10,
   "metadata": {
    "scrolled": true
   },
   "outputs": [
    {
     "data": {
      "text/plain": [
       "<matplotlib.axes._subplots.AxesSubplot at 0x1a18bd2e48>"
      ]
     },
     "execution_count": 10,
     "metadata": {},
     "output_type": "execute_result"
    },
    {
     "data": {
      "image/png": "[encoded data removed]",
      "text/plain": [
       "<Figure size 432x288 with 1 Axes>"
      ]
     },
     "metadata": {
      "needs_background": "light"
     },
     "output_type": "display_data"
    }
   ],
   "source": [
    "sns.distplot(slice.timestamp)"
   ]
  },
  {
   "cell_type": "code",
   "execution_count": 8,
   "metadata": {},
   "outputs": [
    {
     "data": {
      "text/plain": [
       "<matplotlib.axes._subplots.AxesSubplot at 0x1a19d78438>"
      ]
     },
     "execution_count": 8,
     "metadata": {},
     "output_type": "execute_result"
    },
    {
     "data": {
      "image/png": "[encoded data removed]",
      "text/plain": [
       "<Figure size 432x288 with 1 Axes>"
      ]
     },
     "metadata": {
      "needs_background": "light"
     },
     "output_type": "display_data"
    }
   ],
   "source": [
    "sns.distplot(slice.timestamp.value_counts())"
   ]
  },
  {
   "cell_type": "code",
   "execution_count": 11,
   "metadata": {},
   "outputs": [
    {
     "data": {
      "text/plain": [
       "count    5038.000000\n",
       "mean       25.570266\n",
       "std         8.608354\n",
       "min         1.000000\n",
       "25%        21.000000\n",
       "50%        26.000000\n",
       "75%        31.000000\n",
       "max        57.000000\n",
       "Name: timestamp, dtype: float64"
      ]
     },
     "execution_count": 11,
     "metadata": {},
     "output_type": "execute_result"
    }
   ],
   "source": [
    "slice.timestamp.value_counts().describe()"
   ]
  },
  {
   "cell_type": "code",
   "execution_count": 24,
   "metadata": {
    "scrolled": true
   },
   "outputs": [
    {
     "data": {
      "text/plain": [
       "1317829809    57\n",
       "1317829792    53\n",
       "1317830377    53\n",
       "1317830510    52\n",
       "1317829965    52\n",
       "1317829959    51\n",
       "1317830339    51\n",
       "1317830021    50\n",
       "1317830563    50\n",
       "1317830469    49\n",
       "1317830004    49\n",
       "1317830571    49\n",
       "1317830071    49\n",
       "1317830379    49\n",
       "1317829741    49\n",
       "1317829505    49\n",
       "1317830596    49\n",
       "1317830101    49\n",
       "1317830278    48\n",
       "1317830492    48\n",
       "1317830688    48\n",
       "1317830642    48\n",
       "1317829564    47\n",
       "1317829537    47\n",
       "1317829863    47\n",
       "1317829993    47\n",
       "1317830332    47\n",
       "1317829508    47\n",
       "1317830384    47\n",
       "1317829540    47\n",
       "              ..\n",
       "1317787311     1\n",
       "1317787398     1\n",
       "1317787368     1\n",
       "1317787323     1\n",
       "1317787450     1\n",
       "1317787236     1\n",
       "1317787434     1\n",
       "1317787437     1\n",
       "1317787306     1\n",
       "1317787242     1\n",
       "1317787445     1\n",
       "1317787469     1\n",
       "1317787471     1\n",
       "1317787350     1\n",
       "1317787414     1\n",
       "1317787478     1\n",
       "1317787467     1\n",
       "1317787294     1\n",
       "1317787423     1\n",
       "1317787405     1\n",
       "1317787277     1\n",
       "1317787252     1\n",
       "1317787316     1\n",
       "1317787240     1\n",
       "1317787223     1\n",
       "1317787304     1\n",
       "1317787443     1\n",
       "1317787415     1\n",
       "1317787384     1\n",
       "1317787276     1\n",
       "Name: timestamp, Length: 5038, dtype: int64"
      ]
     },
     "execution_count": 24,
     "metadata": {},
     "output_type": "execute_result"
    }
   ],
   "source": [
    "slice.timestamp.value_counts()"
   ]
  },
  {
   "cell_type": "code",
   "execution_count": 112,
   "metadata": {},
   "outputs": [],
   "source": [
    "def form_bins(t):\n",
    "    ts=slice.timestamp//t*t\n",
    "    ts.value_counts().sort_index().plot()\n",
    "    plt.xlabel('timestamp')\n",
    "    plt.ylabel('G(t)')\n",
    "    #plt.xlim(right=1317787250)\n",
    "    \n",
    "    plt.figure()\n",
    "    sns.distplot(ts.value_counts())\n",
    "    plt.xlabel('G(t)')\n",
    "    print(ts.value_counts().describe())"
   ]
  },
  {
   "cell_type": "code",
   "execution_count": 122,
   "metadata": {},
   "outputs": [
    {
     "name": "stdout",
     "output_type": "stream",
     "text": [
      "count       18.000000\n",
      "mean      7156.833333\n",
      "std       2820.125117\n",
      "min        274.000000\n",
      "25%       6668.500000\n",
      "50%       7448.000000\n",
      "75%       8173.250000\n",
      "max      10308.000000\n",
      "Name: timestamp, dtype: float64\n"
     ]
    },
    {
     "data": {
      "image/png": "[encoded data removed]",
      "text/plain": [
       "<Figure size 432x288 with 1 Axes>"
      ]
     },
     "metadata": {
      "needs_background": "light"
     },
     "output_type": "display_data"
    },
    {
     "data": {
      "image/png": "[encoded data removed]",
      "text/plain": [
       "<Figure size 432x288 with 1 Axes>"
      ]
     },
     "metadata": {
      "needs_background": "light"
     },
     "output_type": "display_data"
    }
   ],
   "source": [
    "form_bins(60*5)"
   ]
  },
  {
   "cell_type": "code",
   "execution_count": 113,
   "metadata": {},
   "outputs": [
    {
     "name": "stdout",
     "output_type": "stream",
     "text": [
      "count      86.000000\n",
      "mean     1497.941860\n",
      "std       468.736985\n",
      "min        79.000000\n",
      "25%      1340.000000\n",
      "50%      1519.000000\n",
      "75%      1680.500000\n",
      "max      2166.000000\n",
      "Name: timestamp, dtype: float64\n"
     ]
    },
    {
     "data": {
      "image/png": "[encoded data removed]",
      "text/plain": [
       "<Figure size 432x288 with 1 Axes>"
      ]
     },
     "metadata": {
      "needs_background": "light"
     },
     "output_type": "display_data"
    },
    {
     "data": {
      "image/png": "[encoded data removed]",
      "text/plain": [
       "<Figure size 432x288 with 1 Axes>"
      ]
     },
     "metadata": {
      "needs_background": "light"
     },
     "output_type": "display_data"
    }
   ],
   "source": [
    "form_bins(60)"
   ]
  },
  {
   "cell_type": "code",
   "execution_count": 114,
   "metadata": {
    "scrolled": false
   },
   "outputs": [
    {
     "name": "stdout",
     "output_type": "stream",
     "text": [
      "count     171.000000\n",
      "mean      753.350877\n",
      "std       228.578072\n",
      "min        31.000000\n",
      "25%       672.000000\n",
      "50%       758.000000\n",
      "75%       845.000000\n",
      "max      1092.000000\n",
      "Name: timestamp, dtype: float64\n"
     ]
    },
    {
     "data": {
      "image/png": "[encoded data removed]",
      "text/plain": [
       "<Figure size 432x288 with 1 Axes>"
      ]
     },
     "metadata": {
      "needs_background": "light"
     },
     "output_type": "display_data"
    },
    {
     "data": {
      "image/png": "[encoded data removed]",
      "text/plain": [
       "<Figure size 432x288 with 1 Axes>"
      ]
     },
     "metadata": {
      "needs_background": "light"
     },
     "output_type": "display_data"
    }
   ],
   "source": [
    "form_bins(30)"
   ]
  },
  {
   "cell_type": "code",
   "execution_count": 125,
   "metadata": {},
   "outputs": [
    {
     "name": "stdout",
     "output_type": "stream",
     "text": [
      "count    1699.000000\n",
      "mean       75.822837\n",
      "std        23.931041\n",
      "min         1.000000\n",
      "25%        66.000000\n",
      "50%        76.000000\n",
      "75%        90.000000\n",
      "max       132.000000\n",
      "Name: timestamp, dtype: float64\n"
     ]
    },
    {
     "data": {
      "image/png": "[encoded data removed]",
      "text/plain": [
       "<Figure size 432x288 with 1 Axes>"
      ]
     },
     "metadata": {
      "needs_background": "light"
     },
     "output_type": "display_data"
    },
    {
     "data": {
      "image/png": "[encoded data removed]",
      "text/plain": [
       "<Figure size 432x288 with 1 Axes>"
      ]
     },
     "metadata": {
      "needs_background": "light"
     },
     "output_type": "display_data"
    }
   ],
   "source": [
    "form_bins(3)"
   ]
  },
  {
   "cell_type": "code",
   "execution_count": 124,
   "metadata": {},
   "outputs": [
    {
     "name": "stdout",
     "output_type": "stream",
     "text": [
      "count    2544.000000\n",
      "mean       50.637972\n",
      "std        16.393264\n",
      "min         1.000000\n",
      "25%        43.000000\n",
      "50%        51.000000\n",
      "75%        60.000000\n",
      "max        96.000000\n",
      "Name: timestamp, dtype: float64\n"
     ]
    },
    {
     "data": {
      "image/png": "[encoded data removed]",
      "text/plain": [
       "<Figure size 432x288 with 1 Axes>"
      ]
     },
     "metadata": {
      "needs_background": "light"
     },
     "output_type": "display_data"
    },
    {
     "data": {
      "image/png": "[encoded data removed]",
      "text/plain": [
       "<Figure size 432x288 with 1 Axes>"
      ]
     },
     "metadata": {
      "needs_background": "light"
     },
     "output_type": "display_data"
    }
   ],
   "source": [
    "form_bins(2)"
   ]
  },
  {
   "cell_type": "code",
   "execution_count": 115,
   "metadata": {},
   "outputs": [
    {
     "name": "stdout",
     "output_type": "stream",
     "text": [
      "count    5038.000000\n",
      "mean       25.570266\n",
      "std         8.608354\n",
      "min         1.000000\n",
      "25%        21.000000\n",
      "50%        26.000000\n",
      "75%        31.000000\n",
      "max        57.000000\n",
      "Name: timestamp, dtype: float64\n"
     ]
    },
    {
     "data": {
      "image/png": "[encoded data removed]",
      "text/plain": [
       "<Figure size 432x288 with 1 Axes>"
      ]
     },
     "metadata": {
      "needs_background": "light"
     },
     "output_type": "display_data"
    },
    {
     "data": {
      "image/png": "[encoded data removed]",
      "text/plain": [
       "<Figure size 432x288 with 1 Axes>"
      ]
     },
     "metadata": {
      "needs_background": "light"
     },
     "output_type": "display_data"
    }
   ],
   "source": [
    "form_bins(1)"
   ]
  },
  {
   "cell_type": "code",
   "execution_count": 34,
   "metadata": {
    "scrolled": true
   },
   "outputs": [
    {
     "data": {
      "text/html": [
       "<div>\n",
       "<style scoped>\n",
       "    .dataframe tbody tr th:only-of-type {\n",
       "        vertical-align: middle;\n",
       "    }\n",
       "\n",
       "    .dataframe tbody tr th {\n",
       "        vertical-align: top;\n",
       "    }\n",
       "\n",
       "    .dataframe thead th {\n",
       "        text-align: right;\n",
       "    }\n",
       "</style>\n",
       "<table border=\"1\" class=\"dataframe\">\n",
       "  <thead>\n",
       "    <tr style=\"text-align: right;\">\n",
       "      <th></th>\n",
       "      <th>timestamp</th>\n",
       "      <th>id</th>\n",
       "      <th>clicked</th>\n",
       "    </tr>\n",
       "  </thead>\n",
       "  <tbody>\n",
       "    <tr>\n",
       "      <th>350160</th>\n",
       "      <td>1317783600</td>\n",
       "      <td>id-572194</td>\n",
       "      <td>0</td>\n",
       "    </tr>\n",
       "    <tr>\n",
       "      <th>350161</th>\n",
       "      <td>1317783600</td>\n",
       "      <td>id-572582</td>\n",
       "      <td>0</td>\n",
       "    </tr>\n",
       "    <tr>\n",
       "      <th>350162</th>\n",
       "      <td>1317783600</td>\n",
       "      <td>id-569364</td>\n",
       "      <td>0</td>\n",
       "    </tr>\n",
       "    <tr>\n",
       "      <th>350163</th>\n",
       "      <td>1317783600</td>\n",
       "      <td>id-569270</td>\n",
       "      <td>0</td>\n",
       "    </tr>\n",
       "    <tr>\n",
       "      <th>350164</th>\n",
       "      <td>1317783600</td>\n",
       "      <td>id-573053</td>\n",
       "      <td>0</td>\n",
       "    </tr>\n",
       "    <tr>\n",
       "      <th>350165</th>\n",
       "      <td>1317783600</td>\n",
       "      <td>id-568437</td>\n",
       "      <td>0</td>\n",
       "    </tr>\n",
       "    <tr>\n",
       "      <th>350166</th>\n",
       "      <td>1317783600</td>\n",
       "      <td>id-569065</td>\n",
       "      <td>0</td>\n",
       "    </tr>\n",
       "    <tr>\n",
       "      <th>350167</th>\n",
       "      <td>1317783600</td>\n",
       "      <td>id-571705</td>\n",
       "      <td>0</td>\n",
       "    </tr>\n",
       "    <tr>\n",
       "      <th>350168</th>\n",
       "      <td>1317783600</td>\n",
       "      <td>id-572582</td>\n",
       "      <td>0</td>\n",
       "    </tr>\n",
       "    <tr>\n",
       "      <th>350169</th>\n",
       "      <td>1317783600</td>\n",
       "      <td>id-570846</td>\n",
       "      <td>0</td>\n",
       "    </tr>\n",
       "    <tr>\n",
       "      <th>350170</th>\n",
       "      <td>1317783600</td>\n",
       "      <td>id-570884</td>\n",
       "      <td>0</td>\n",
       "    </tr>\n",
       "    <tr>\n",
       "      <th>350171</th>\n",
       "      <td>1317783600</td>\n",
       "      <td>id-569417</td>\n",
       "      <td>0</td>\n",
       "    </tr>\n",
       "    <tr>\n",
       "      <th>350172</th>\n",
       "      <td>1317783600</td>\n",
       "      <td>id-572644</td>\n",
       "      <td>0</td>\n",
       "    </tr>\n",
       "    <tr>\n",
       "      <th>350173</th>\n",
       "      <td>1317783600</td>\n",
       "      <td>id-570611</td>\n",
       "      <td>0</td>\n",
       "    </tr>\n",
       "    <tr>\n",
       "      <th>350174</th>\n",
       "      <td>1317783600</td>\n",
       "      <td>id-570884</td>\n",
       "      <td>0</td>\n",
       "    </tr>\n",
       "    <tr>\n",
       "      <th>350175</th>\n",
       "      <td>1317783600</td>\n",
       "      <td>id-572263</td>\n",
       "      <td>0</td>\n",
       "    </tr>\n",
       "    <tr>\n",
       "      <th>350176</th>\n",
       "      <td>1317783600</td>\n",
       "      <td>id-572846</td>\n",
       "      <td>0</td>\n",
       "    </tr>\n",
       "    <tr>\n",
       "      <th>350177</th>\n",
       "      <td>1317783600</td>\n",
       "      <td>id-572263</td>\n",
       "      <td>0</td>\n",
       "    </tr>\n",
       "    <tr>\n",
       "      <th>350178</th>\n",
       "      <td>1317783600</td>\n",
       "      <td>id-571705</td>\n",
       "      <td>0</td>\n",
       "    </tr>\n",
       "    <tr>\n",
       "      <th>350179</th>\n",
       "      <td>1317783600</td>\n",
       "      <td>id-571264</td>\n",
       "      <td>0</td>\n",
       "    </tr>\n",
       "    <tr>\n",
       "      <th>350180</th>\n",
       "      <td>1317783600</td>\n",
       "      <td>id-572262</td>\n",
       "      <td>0</td>\n",
       "    </tr>\n",
       "    <tr>\n",
       "      <th>350181</th>\n",
       "      <td>1317783600</td>\n",
       "      <td>id-572112</td>\n",
       "      <td>0</td>\n",
       "    </tr>\n",
       "    <tr>\n",
       "      <th>350182</th>\n",
       "      <td>1317783600</td>\n",
       "      <td>id-571362</td>\n",
       "      <td>1</td>\n",
       "    </tr>\n",
       "    <tr>\n",
       "      <th>350183</th>\n",
       "      <td>1317783600</td>\n",
       "      <td>id-571362</td>\n",
       "      <td>0</td>\n",
       "    </tr>\n",
       "    <tr>\n",
       "      <th>350184</th>\n",
       "      <td>1317783600</td>\n",
       "      <td>id-573243</td>\n",
       "      <td>0</td>\n",
       "    </tr>\n",
       "    <tr>\n",
       "      <th>350185</th>\n",
       "      <td>1317783600</td>\n",
       "      <td>id-572825</td>\n",
       "      <td>0</td>\n",
       "    </tr>\n",
       "    <tr>\n",
       "      <th>350186</th>\n",
       "      <td>1317783600</td>\n",
       "      <td>id-571679</td>\n",
       "      <td>0</td>\n",
       "    </tr>\n",
       "    <tr>\n",
       "      <th>350187</th>\n",
       "      <td>1317783600</td>\n",
       "      <td>id-570962</td>\n",
       "      <td>0</td>\n",
       "    </tr>\n",
       "    <tr>\n",
       "      <th>350188</th>\n",
       "      <td>1317783600</td>\n",
       "      <td>id-571362</td>\n",
       "      <td>0</td>\n",
       "    </tr>\n",
       "    <tr>\n",
       "      <th>350189</th>\n",
       "      <td>1317783600</td>\n",
       "      <td>id-571956</td>\n",
       "      <td>0</td>\n",
       "    </tr>\n",
       "    <tr>\n",
       "      <th>...</th>\n",
       "      <td>...</td>\n",
       "      <td>...</td>\n",
       "      <td>...</td>\n",
       "    </tr>\n",
       "    <tr>\n",
       "      <th>478953</th>\n",
       "      <td>1317830640</td>\n",
       "      <td>id-572112</td>\n",
       "      <td>0</td>\n",
       "    </tr>\n",
       "    <tr>\n",
       "      <th>478954</th>\n",
       "      <td>1317830640</td>\n",
       "      <td>id-571880</td>\n",
       "      <td>1</td>\n",
       "    </tr>\n",
       "    <tr>\n",
       "      <th>478955</th>\n",
       "      <td>1317830640</td>\n",
       "      <td>id-571050</td>\n",
       "      <td>0</td>\n",
       "    </tr>\n",
       "    <tr>\n",
       "      <th>478956</th>\n",
       "      <td>1317830640</td>\n",
       "      <td>id-571469</td>\n",
       "      <td>0</td>\n",
       "    </tr>\n",
       "    <tr>\n",
       "      <th>478957</th>\n",
       "      <td>1317830640</td>\n",
       "      <td>id-564492</td>\n",
       "      <td>0</td>\n",
       "    </tr>\n",
       "    <tr>\n",
       "      <th>478958</th>\n",
       "      <td>1317830640</td>\n",
       "      <td>id-573053</td>\n",
       "      <td>0</td>\n",
       "    </tr>\n",
       "    <tr>\n",
       "      <th>478959</th>\n",
       "      <td>1317830640</td>\n",
       "      <td>id-573243</td>\n",
       "      <td>0</td>\n",
       "    </tr>\n",
       "    <tr>\n",
       "      <th>478960</th>\n",
       "      <td>1317830640</td>\n",
       "      <td>id-572076</td>\n",
       "      <td>0</td>\n",
       "    </tr>\n",
       "    <tr>\n",
       "      <th>478961</th>\n",
       "      <td>1317830640</td>\n",
       "      <td>id-572263</td>\n",
       "      <td>0</td>\n",
       "    </tr>\n",
       "    <tr>\n",
       "      <th>478962</th>\n",
       "      <td>1317830640</td>\n",
       "      <td>id-572797</td>\n",
       "      <td>0</td>\n",
       "    </tr>\n",
       "    <tr>\n",
       "      <th>478963</th>\n",
       "      <td>1317830640</td>\n",
       "      <td>id-573243</td>\n",
       "      <td>0</td>\n",
       "    </tr>\n",
       "    <tr>\n",
       "      <th>478964</th>\n",
       "      <td>1317830640</td>\n",
       "      <td>id-569364</td>\n",
       "      <td>0</td>\n",
       "    </tr>\n",
       "    <tr>\n",
       "      <th>478965</th>\n",
       "      <td>1317830640</td>\n",
       "      <td>id-571469</td>\n",
       "      <td>0</td>\n",
       "    </tr>\n",
       "    <tr>\n",
       "      <th>478966</th>\n",
       "      <td>1317830640</td>\n",
       "      <td>id-571705</td>\n",
       "      <td>0</td>\n",
       "    </tr>\n",
       "    <tr>\n",
       "      <th>478967</th>\n",
       "      <td>1317830640</td>\n",
       "      <td>id-569479</td>\n",
       "      <td>1</td>\n",
       "    </tr>\n",
       "    <tr>\n",
       "      <th>478968</th>\n",
       "      <td>1317830640</td>\n",
       "      <td>id-572825</td>\n",
       "      <td>0</td>\n",
       "    </tr>\n",
       "    <tr>\n",
       "      <th>478969</th>\n",
       "      <td>1317830640</td>\n",
       "      <td>id-572797</td>\n",
       "      <td>0</td>\n",
       "    </tr>\n",
       "    <tr>\n",
       "      <th>478970</th>\n",
       "      <td>1317830640</td>\n",
       "      <td>id-572194</td>\n",
       "      <td>0</td>\n",
       "    </tr>\n",
       "    <tr>\n",
       "      <th>478971</th>\n",
       "      <td>1317830640</td>\n",
       "      <td>id-573811</td>\n",
       "      <td>0</td>\n",
       "    </tr>\n",
       "    <tr>\n",
       "      <th>478972</th>\n",
       "      <td>1317830640</td>\n",
       "      <td>id-574028</td>\n",
       "      <td>0</td>\n",
       "    </tr>\n",
       "    <tr>\n",
       "      <th>478973</th>\n",
       "      <td>1317830640</td>\n",
       "      <td>id-571956</td>\n",
       "      <td>0</td>\n",
       "    </tr>\n",
       "    <tr>\n",
       "      <th>478974</th>\n",
       "      <td>1317830640</td>\n",
       "      <td>id-569065</td>\n",
       "      <td>0</td>\n",
       "    </tr>\n",
       "    <tr>\n",
       "      <th>478975</th>\n",
       "      <td>1317830640</td>\n",
       "      <td>id-571470</td>\n",
       "      <td>0</td>\n",
       "    </tr>\n",
       "    <tr>\n",
       "      <th>478976</th>\n",
       "      <td>1317830640</td>\n",
       "      <td>id-572797</td>\n",
       "      <td>0</td>\n",
       "    </tr>\n",
       "    <tr>\n",
       "      <th>478977</th>\n",
       "      <td>1317830640</td>\n",
       "      <td>id-569065</td>\n",
       "      <td>0</td>\n",
       "    </tr>\n",
       "    <tr>\n",
       "      <th>478978</th>\n",
       "      <td>1317830640</td>\n",
       "      <td>id-573811</td>\n",
       "      <td>0</td>\n",
       "    </tr>\n",
       "    <tr>\n",
       "      <th>478979</th>\n",
       "      <td>1317830640</td>\n",
       "      <td>id-569479</td>\n",
       "      <td>0</td>\n",
       "    </tr>\n",
       "    <tr>\n",
       "      <th>478980</th>\n",
       "      <td>1317830640</td>\n",
       "      <td>id-572263</td>\n",
       "      <td>0</td>\n",
       "    </tr>\n",
       "    <tr>\n",
       "      <th>478981</th>\n",
       "      <td>1317830640</td>\n",
       "      <td>id-573241</td>\n",
       "      <td>0</td>\n",
       "    </tr>\n",
       "    <tr>\n",
       "      <th>478982</th>\n",
       "      <td>1317830640</td>\n",
       "      <td>id-574244</td>\n",
       "      <td>0</td>\n",
       "    </tr>\n",
       "  </tbody>\n",
       "</table>\n",
       "<p>128823 rows × 3 columns</p>\n",
       "</div>"
      ],
      "text/plain": [
       "         timestamp         id  clicked\n",
       "350160  1317783600  id-572194        0\n",
       "350161  1317783600  id-572582        0\n",
       "350162  1317783600  id-569364        0\n",
       "350163  1317783600  id-569270        0\n",
       "350164  1317783600  id-573053        0\n",
       "350165  1317783600  id-568437        0\n",
       "350166  1317783600  id-569065        0\n",
       "350167  1317783600  id-571705        0\n",
       "350168  1317783600  id-572582        0\n",
       "350169  1317783600  id-570846        0\n",
       "350170  1317783600  id-570884        0\n",
       "350171  1317783600  id-569417        0\n",
       "350172  1317783600  id-572644        0\n",
       "350173  1317783600  id-570611        0\n",
       "350174  1317783600  id-570884        0\n",
       "350175  1317783600  id-572263        0\n",
       "350176  1317783600  id-572846        0\n",
       "350177  1317783600  id-572263        0\n",
       "350178  1317783600  id-571705        0\n",
       "350179  1317783600  id-571264        0\n",
       "350180  1317783600  id-572262        0\n",
       "350181  1317783600  id-572112        0\n",
       "350182  1317783600  id-571362        1\n",
       "350183  1317783600  id-571362        0\n",
       "350184  1317783600  id-573243        0\n",
       "350185  1317783600  id-572825        0\n",
       "350186  1317783600  id-571679        0\n",
       "350187  1317783600  id-570962        0\n",
       "350188  1317783600  id-571362        0\n",
       "350189  1317783600  id-571956        0\n",
       "...            ...        ...      ...\n",
       "478953  1317830640  id-572112        0\n",
       "478954  1317830640  id-571880        1\n",
       "478955  1317830640  id-571050        0\n",
       "478956  1317830640  id-571469        0\n",
       "478957  1317830640  id-564492        0\n",
       "478958  1317830640  id-573053        0\n",
       "478959  1317830640  id-573243        0\n",
       "478960  1317830640  id-572076        0\n",
       "478961  1317830640  id-572263        0\n",
       "478962  1317830640  id-572797        0\n",
       "478963  1317830640  id-573243        0\n",
       "478964  1317830640  id-569364        0\n",
       "478965  1317830640  id-571469        0\n",
       "478966  1317830640  id-571705        0\n",
       "478967  1317830640  id-569479        1\n",
       "478968  1317830640  id-572825        0\n",
       "478969  1317830640  id-572797        0\n",
       "478970  1317830640  id-572194        0\n",
       "478971  1317830640  id-573811        0\n",
       "478972  1317830640  id-574028        0\n",
       "478973  1317830640  id-571956        0\n",
       "478974  1317830640  id-569065        0\n",
       "478975  1317830640  id-571470        0\n",
       "478976  1317830640  id-572797        0\n",
       "478977  1317830640  id-569065        0\n",
       "478978  1317830640  id-573811        0\n",
       "478979  1317830640  id-569479        0\n",
       "478980  1317830640  id-572263        0\n",
       "478981  1317830640  id-573241        0\n",
       "478982  1317830640  id-574244        0\n",
       "\n",
       "[128823 rows x 3 columns]"
      ]
     },
     "execution_count": 34,
     "metadata": {},
     "output_type": "execute_result"
    }
   ],
   "source": [
    "timestamp60=slice.timestamp//60*60\n",
    "records60=slice.copy()\n",
    "records60.timestamp=timestamp60\n",
    "records60"
   ]
  },
  {
   "cell_type": "code",
   "execution_count": 116,
   "metadata": {
    "scrolled": true
   },
   "outputs": [
    {
     "data": {
      "text/html": [
       "<div>\n",
       "<style scoped>\n",
       "    .dataframe tbody tr th:only-of-type {\n",
       "        vertical-align: middle;\n",
       "    }\n",
       "\n",
       "    .dataframe tbody tr th {\n",
       "        vertical-align: top;\n",
       "    }\n",
       "\n",
       "    .dataframe thead th {\n",
       "        text-align: right;\n",
       "    }\n",
       "</style>\n",
       "<table border=\"1\" class=\"dataframe\">\n",
       "  <thead>\n",
       "    <tr style=\"text-align: right;\">\n",
       "      <th></th>\n",
       "      <th>timestamp</th>\n",
       "      <th>id</th>\n",
       "      <th>clicked</th>\n",
       "    </tr>\n",
       "  </thead>\n",
       "  <tbody>\n",
       "    <tr>\n",
       "      <th>350160</th>\n",
       "      <td>1317783600</td>\n",
       "      <td>id-572194</td>\n",
       "      <td>0</td>\n",
       "    </tr>\n",
       "    <tr>\n",
       "      <th>350161</th>\n",
       "      <td>1317783600</td>\n",
       "      <td>id-572582</td>\n",
       "      <td>0</td>\n",
       "    </tr>\n",
       "    <tr>\n",
       "      <th>350162</th>\n",
       "      <td>1317783600</td>\n",
       "      <td>id-569364</td>\n",
       "      <td>0</td>\n",
       "    </tr>\n",
       "    <tr>\n",
       "      <th>350163</th>\n",
       "      <td>1317783600</td>\n",
       "      <td>id-569270</td>\n",
       "      <td>0</td>\n",
       "    </tr>\n",
       "    <tr>\n",
       "      <th>350164</th>\n",
       "      <td>1317783600</td>\n",
       "      <td>id-573053</td>\n",
       "      <td>0</td>\n",
       "    </tr>\n",
       "    <tr>\n",
       "      <th>350165</th>\n",
       "      <td>1317783600</td>\n",
       "      <td>id-568437</td>\n",
       "      <td>0</td>\n",
       "    </tr>\n",
       "    <tr>\n",
       "      <th>350166</th>\n",
       "      <td>1317783600</td>\n",
       "      <td>id-569065</td>\n",
       "      <td>0</td>\n",
       "    </tr>\n",
       "    <tr>\n",
       "      <th>350167</th>\n",
       "      <td>1317783600</td>\n",
       "      <td>id-571705</td>\n",
       "      <td>0</td>\n",
       "    </tr>\n",
       "    <tr>\n",
       "      <th>350168</th>\n",
       "      <td>1317783600</td>\n",
       "      <td>id-572582</td>\n",
       "      <td>0</td>\n",
       "    </tr>\n",
       "    <tr>\n",
       "      <th>350169</th>\n",
       "      <td>1317783600</td>\n",
       "      <td>id-570846</td>\n",
       "      <td>0</td>\n",
       "    </tr>\n",
       "    <tr>\n",
       "      <th>350170</th>\n",
       "      <td>1317783600</td>\n",
       "      <td>id-570884</td>\n",
       "      <td>0</td>\n",
       "    </tr>\n",
       "    <tr>\n",
       "      <th>350171</th>\n",
       "      <td>1317783600</td>\n",
       "      <td>id-569417</td>\n",
       "      <td>0</td>\n",
       "    </tr>\n",
       "    <tr>\n",
       "      <th>350172</th>\n",
       "      <td>1317783600</td>\n",
       "      <td>id-572644</td>\n",
       "      <td>0</td>\n",
       "    </tr>\n",
       "    <tr>\n",
       "      <th>350173</th>\n",
       "      <td>1317783600</td>\n",
       "      <td>id-570611</td>\n",
       "      <td>0</td>\n",
       "    </tr>\n",
       "    <tr>\n",
       "      <th>350174</th>\n",
       "      <td>1317783600</td>\n",
       "      <td>id-570884</td>\n",
       "      <td>0</td>\n",
       "    </tr>\n",
       "    <tr>\n",
       "      <th>350175</th>\n",
       "      <td>1317783600</td>\n",
       "      <td>id-572263</td>\n",
       "      <td>0</td>\n",
       "    </tr>\n",
       "    <tr>\n",
       "      <th>350176</th>\n",
       "      <td>1317783600</td>\n",
       "      <td>id-572846</td>\n",
       "      <td>0</td>\n",
       "    </tr>\n",
       "    <tr>\n",
       "      <th>350177</th>\n",
       "      <td>1317783600</td>\n",
       "      <td>id-572263</td>\n",
       "      <td>0</td>\n",
       "    </tr>\n",
       "    <tr>\n",
       "      <th>350178</th>\n",
       "      <td>1317783600</td>\n",
       "      <td>id-571705</td>\n",
       "      <td>0</td>\n",
       "    </tr>\n",
       "    <tr>\n",
       "      <th>350179</th>\n",
       "      <td>1317783600</td>\n",
       "      <td>id-571264</td>\n",
       "      <td>0</td>\n",
       "    </tr>\n",
       "    <tr>\n",
       "      <th>350180</th>\n",
       "      <td>1317783600</td>\n",
       "      <td>id-572262</td>\n",
       "      <td>0</td>\n",
       "    </tr>\n",
       "    <tr>\n",
       "      <th>350181</th>\n",
       "      <td>1317783600</td>\n",
       "      <td>id-572112</td>\n",
       "      <td>0</td>\n",
       "    </tr>\n",
       "    <tr>\n",
       "      <th>350182</th>\n",
       "      <td>1317783600</td>\n",
       "      <td>id-571362</td>\n",
       "      <td>1</td>\n",
       "    </tr>\n",
       "    <tr>\n",
       "      <th>350183</th>\n",
       "      <td>1317783600</td>\n",
       "      <td>id-571362</td>\n",
       "      <td>0</td>\n",
       "    </tr>\n",
       "    <tr>\n",
       "      <th>350184</th>\n",
       "      <td>1317783600</td>\n",
       "      <td>id-573243</td>\n",
       "      <td>0</td>\n",
       "    </tr>\n",
       "    <tr>\n",
       "      <th>350185</th>\n",
       "      <td>1317783600</td>\n",
       "      <td>id-572825</td>\n",
       "      <td>0</td>\n",
       "    </tr>\n",
       "    <tr>\n",
       "      <th>350186</th>\n",
       "      <td>1317783600</td>\n",
       "      <td>id-571679</td>\n",
       "      <td>0</td>\n",
       "    </tr>\n",
       "    <tr>\n",
       "      <th>350187</th>\n",
       "      <td>1317783600</td>\n",
       "      <td>id-570962</td>\n",
       "      <td>0</td>\n",
       "    </tr>\n",
       "    <tr>\n",
       "      <th>350188</th>\n",
       "      <td>1317783600</td>\n",
       "      <td>id-571362</td>\n",
       "      <td>0</td>\n",
       "    </tr>\n",
       "    <tr>\n",
       "      <th>350189</th>\n",
       "      <td>1317783600</td>\n",
       "      <td>id-571956</td>\n",
       "      <td>0</td>\n",
       "    </tr>\n",
       "    <tr>\n",
       "      <th>...</th>\n",
       "      <td>...</td>\n",
       "      <td>...</td>\n",
       "      <td>...</td>\n",
       "    </tr>\n",
       "    <tr>\n",
       "      <th>478953</th>\n",
       "      <td>1317830670</td>\n",
       "      <td>id-572112</td>\n",
       "      <td>0</td>\n",
       "    </tr>\n",
       "    <tr>\n",
       "      <th>478954</th>\n",
       "      <td>1317830670</td>\n",
       "      <td>id-571880</td>\n",
       "      <td>1</td>\n",
       "    </tr>\n",
       "    <tr>\n",
       "      <th>478955</th>\n",
       "      <td>1317830670</td>\n",
       "      <td>id-571050</td>\n",
       "      <td>0</td>\n",
       "    </tr>\n",
       "    <tr>\n",
       "      <th>478956</th>\n",
       "      <td>1317830670</td>\n",
       "      <td>id-571469</td>\n",
       "      <td>0</td>\n",
       "    </tr>\n",
       "    <tr>\n",
       "      <th>478957</th>\n",
       "      <td>1317830670</td>\n",
       "      <td>id-564492</td>\n",
       "      <td>0</td>\n",
       "    </tr>\n",
       "    <tr>\n",
       "      <th>478958</th>\n",
       "      <td>1317830670</td>\n",
       "      <td>id-573053</td>\n",
       "      <td>0</td>\n",
       "    </tr>\n",
       "    <tr>\n",
       "      <th>478959</th>\n",
       "      <td>1317830670</td>\n",
       "      <td>id-573243</td>\n",
       "      <td>0</td>\n",
       "    </tr>\n",
       "    <tr>\n",
       "      <th>478960</th>\n",
       "      <td>1317830670</td>\n",
       "      <td>id-572076</td>\n",
       "      <td>0</td>\n",
       "    </tr>\n",
       "    <tr>\n",
       "      <th>478961</th>\n",
       "      <td>1317830670</td>\n",
       "      <td>id-572263</td>\n",
       "      <td>0</td>\n",
       "    </tr>\n",
       "    <tr>\n",
       "      <th>478962</th>\n",
       "      <td>1317830670</td>\n",
       "      <td>id-572797</td>\n",
       "      <td>0</td>\n",
       "    </tr>\n",
       "    <tr>\n",
       "      <th>478963</th>\n",
       "      <td>1317830670</td>\n",
       "      <td>id-573243</td>\n",
       "      <td>0</td>\n",
       "    </tr>\n",
       "    <tr>\n",
       "      <th>478964</th>\n",
       "      <td>1317830670</td>\n",
       "      <td>id-569364</td>\n",
       "      <td>0</td>\n",
       "    </tr>\n",
       "    <tr>\n",
       "      <th>478965</th>\n",
       "      <td>1317830670</td>\n",
       "      <td>id-571469</td>\n",
       "      <td>0</td>\n",
       "    </tr>\n",
       "    <tr>\n",
       "      <th>478966</th>\n",
       "      <td>1317830670</td>\n",
       "      <td>id-571705</td>\n",
       "      <td>0</td>\n",
       "    </tr>\n",
       "    <tr>\n",
       "      <th>478967</th>\n",
       "      <td>1317830670</td>\n",
       "      <td>id-569479</td>\n",
       "      <td>1</td>\n",
       "    </tr>\n",
       "    <tr>\n",
       "      <th>478968</th>\n",
       "      <td>1317830670</td>\n",
       "      <td>id-572825</td>\n",
       "      <td>0</td>\n",
       "    </tr>\n",
       "    <tr>\n",
       "      <th>478969</th>\n",
       "      <td>1317830670</td>\n",
       "      <td>id-572797</td>\n",
       "      <td>0</td>\n",
       "    </tr>\n",
       "    <tr>\n",
       "      <th>478970</th>\n",
       "      <td>1317830670</td>\n",
       "      <td>id-572194</td>\n",
       "      <td>0</td>\n",
       "    </tr>\n",
       "    <tr>\n",
       "      <th>478971</th>\n",
       "      <td>1317830670</td>\n",
       "      <td>id-573811</td>\n",
       "      <td>0</td>\n",
       "    </tr>\n",
       "    <tr>\n",
       "      <th>478972</th>\n",
       "      <td>1317830670</td>\n",
       "      <td>id-574028</td>\n",
       "      <td>0</td>\n",
       "    </tr>\n",
       "    <tr>\n",
       "      <th>478973</th>\n",
       "      <td>1317830670</td>\n",
       "      <td>id-571956</td>\n",
       "      <td>0</td>\n",
       "    </tr>\n",
       "    <tr>\n",
       "      <th>478974</th>\n",
       "      <td>1317830670</td>\n",
       "      <td>id-569065</td>\n",
       "      <td>0</td>\n",
       "    </tr>\n",
       "    <tr>\n",
       "      <th>478975</th>\n",
       "      <td>1317830670</td>\n",
       "      <td>id-571470</td>\n",
       "      <td>0</td>\n",
       "    </tr>\n",
       "    <tr>\n",
       "      <th>478976</th>\n",
       "      <td>1317830670</td>\n",
       "      <td>id-572797</td>\n",
       "      <td>0</td>\n",
       "    </tr>\n",
       "    <tr>\n",
       "      <th>478977</th>\n",
       "      <td>1317830670</td>\n",
       "      <td>id-569065</td>\n",
       "      <td>0</td>\n",
       "    </tr>\n",
       "    <tr>\n",
       "      <th>478978</th>\n",
       "      <td>1317830670</td>\n",
       "      <td>id-573811</td>\n",
       "      <td>0</td>\n",
       "    </tr>\n",
       "    <tr>\n",
       "      <th>478979</th>\n",
       "      <td>1317830670</td>\n",
       "      <td>id-569479</td>\n",
       "      <td>0</td>\n",
       "    </tr>\n",
       "    <tr>\n",
       "      <th>478980</th>\n",
       "      <td>1317830670</td>\n",
       "      <td>id-572263</td>\n",
       "      <td>0</td>\n",
       "    </tr>\n",
       "    <tr>\n",
       "      <th>478981</th>\n",
       "      <td>1317830670</td>\n",
       "      <td>id-573241</td>\n",
       "      <td>0</td>\n",
       "    </tr>\n",
       "    <tr>\n",
       "      <th>478982</th>\n",
       "      <td>1317830670</td>\n",
       "      <td>id-574244</td>\n",
       "      <td>0</td>\n",
       "    </tr>\n",
       "  </tbody>\n",
       "</table>\n",
       "<p>128823 rows × 3 columns</p>\n",
       "</div>"
      ],
      "text/plain": [
       "         timestamp         id  clicked\n",
       "350160  1317783600  id-572194        0\n",
       "350161  1317783600  id-572582        0\n",
       "350162  1317783600  id-569364        0\n",
       "350163  1317783600  id-569270        0\n",
       "350164  1317783600  id-573053        0\n",
       "350165  1317783600  id-568437        0\n",
       "350166  1317783600  id-569065        0\n",
       "350167  1317783600  id-571705        0\n",
       "350168  1317783600  id-572582        0\n",
       "350169  1317783600  id-570846        0\n",
       "350170  1317783600  id-570884        0\n",
       "350171  1317783600  id-569417        0\n",
       "350172  1317783600  id-572644        0\n",
       "350173  1317783600  id-570611        0\n",
       "350174  1317783600  id-570884        0\n",
       "350175  1317783600  id-572263        0\n",
       "350176  1317783600  id-572846        0\n",
       "350177  1317783600  id-572263        0\n",
       "350178  1317783600  id-571705        0\n",
       "350179  1317783600  id-571264        0\n",
       "350180  1317783600  id-572262        0\n",
       "350181  1317783600  id-572112        0\n",
       "350182  1317783600  id-571362        1\n",
       "350183  1317783600  id-571362        0\n",
       "350184  1317783600  id-573243        0\n",
       "350185  1317783600  id-572825        0\n",
       "350186  1317783600  id-571679        0\n",
       "350187  1317783600  id-570962        0\n",
       "350188  1317783600  id-571362        0\n",
       "350189  1317783600  id-571956        0\n",
       "...            ...        ...      ...\n",
       "478953  1317830670  id-572112        0\n",
       "478954  1317830670  id-571880        1\n",
       "478955  1317830670  id-571050        0\n",
       "478956  1317830670  id-571469        0\n",
       "478957  1317830670  id-564492        0\n",
       "478958  1317830670  id-573053        0\n",
       "478959  1317830670  id-573243        0\n",
       "478960  1317830670  id-572076        0\n",
       "478961  1317830670  id-572263        0\n",
       "478962  1317830670  id-572797        0\n",
       "478963  1317830670  id-573243        0\n",
       "478964  1317830670  id-569364        0\n",
       "478965  1317830670  id-571469        0\n",
       "478966  1317830670  id-571705        0\n",
       "478967  1317830670  id-569479        1\n",
       "478968  1317830670  id-572825        0\n",
       "478969  1317830670  id-572797        0\n",
       "478970  1317830670  id-572194        0\n",
       "478971  1317830670  id-573811        0\n",
       "478972  1317830670  id-574028        0\n",
       "478973  1317830670  id-571956        0\n",
       "478974  1317830670  id-569065        0\n",
       "478975  1317830670  id-571470        0\n",
       "478976  1317830670  id-572797        0\n",
       "478977  1317830670  id-569065        0\n",
       "478978  1317830670  id-573811        0\n",
       "478979  1317830670  id-569479        0\n",
       "478980  1317830670  id-572263        0\n",
       "478981  1317830670  id-573241        0\n",
       "478982  1317830670  id-574244        0\n",
       "\n",
       "[128823 rows x 3 columns]"
      ]
     },
     "execution_count": 116,
     "metadata": {},
     "output_type": "execute_result"
    }
   ],
   "source": [
    "timestamp30=slice.timestamp//30*30\n",
    "records30=slice.copy()\n",
    "records30.timestamp=timestamp30\n",
    "records30"
   ]
  },
  {
   "cell_type": "code",
   "execution_count": 12,
   "metadata": {},
   "outputs": [],
   "source": [
    "class Arm:\n",
    "    def __init__(self):\n",
    "        self.T = 0\n",
    "        self.rewards = 0\n",
    "        self.X = -1\n",
    "    def __repr__(self):\n",
    "        return '{:.4f} {}/{}'.format(self.X, self.rewards, self.T)\n",
    "    "
   ]
  },
  {
   "cell_type": "code",
   "execution_count": 194,
   "metadata": {},
   "outputs": [],
   "source": [
    "class Epsilon_z_greedy:\n",
    "    def __init__(self, records=slice, pool=pool, G=slice.timestamp.value_counts()):\n",
    "        self.G_ = Counter() # actual G(t) computed during playing\n",
    "        self.records = records.itertuples() # optimal speed, sub-optimal space\n",
    "        self.rewards = 0\n",
    "        self.pool = {}\n",
    "        self.G = G # estimation of G(t) counted from records\n",
    "        for k in pool:\n",
    "            self.pool[k] = Arm()\n",
    "        self.best = None\n",
    "        \n",
    "    def update(self, record):\n",
    "        self.pool[record.id].rewards += record.clicked\n",
    "        self.pool[record.id].T += 1\n",
    "        self.pool[record.id].X = self.pool[record.id].rewards / self.pool[record.id].T\n",
    "        if not self.best:\n",
    "            self.best = record.id\n",
    "        else:\n",
    "            self.best = max((self.best, record.id), key= lambda arm:self.pool[arm].X)\n",
    "\n",
    "    def initialize(self, m=24):\n",
    "        i=0\n",
    "        while i<m:\n",
    "            record = next(self.records) # raise StopIteration\n",
    "            if record.id not in self.pool:\n",
    "                continue\n",
    "            if not self.pool[record.id].T: # not played\n",
    "                self.G_[record.timestamp] += 1\n",
    "                self.update(record)\n",
    "                i+=1\n",
    "    \n",
    "    def play(self, n, m=24, z=31, threshold=.3):\n",
    "        c=Counter()\n",
    "        es=[]\n",
    "        \n",
    "        prev_time = None\n",
    "        prev_pick = None\n",
    "        bin_reward = 0\n",
    "        k=250 # k>4/(best.X-2ndBest.X)\n",
    "        t_ = 0 # number of rounds under the threshold z up to time t\n",
    "        \n",
    "        t=0\n",
    "        while t<n:\n",
    "            record = next(self.records) # raise StopIteration\n",
    "            if record.id not in self.pool: # omit mortal articles\n",
    "                continue\n",
    "                \n",
    "            if record.timestamp == prev_time: # still in the last time bin\n",
    "                pick = prev_pick # lock recommendation\n",
    "            else: # entering a new time bin\n",
    "                if bin_reward != 0: # last time bin is valid\n",
    "                    t+=1\n",
    "                    self.rewards += bin_reward/self.G_[prev_time]*self.G[prev_time]\n",
    "                bin_reward = 0\n",
    "                \n",
    "                if z!=None: # epsilon-z greedy\n",
    "                    epsilon = 1 if t_==0 else min(1, k*m/t_)\n",
    "                    es.append(epsilon)\n",
    "                    if self.G[record.timestamp]<z:\n",
    "                        t_ += 1\n",
    "                        if random.random()<epsilon:\n",
    "                            c['<z explore']+=1\n",
    "                            pick = random.choice(list(self.pool))\n",
    "                        else:\n",
    "                            c['<z exploit']+=1\n",
    "                            pick = self.best\n",
    "                    else:\n",
    "                        c['>=z']+=1\n",
    "                        pick = self.best\n",
    "                        \n",
    "                else: # vallina epsilon greedy\n",
    "                    epsilon = min(1, k*m/(t+25))\n",
    "                    if random.random()<epsilon:\n",
    "                        pick = random.choice(list(self.pool))\n",
    "                    else:\n",
    "                        pick = self.best\n",
    "\n",
    "            if pick == record.id: # historical action matches proposed action\n",
    "                self.G_[record.timestamp] += 1\n",
    "                bin_reward += record.clicked\n",
    "                self.update(record)\n",
    "                \n",
    "            prev_pick = pick\n",
    "            prev_time = record.timestamp\n",
    "        if bin_reward !=0:\n",
    "            self.rewards += bin_reward/self.G_[prev_time]*self.G[prev_time]\n",
    "        print(c)\n",
    "        plt.plot(es)"
   ]
  },
  {
   "cell_type": "code",
   "execution_count": 195,
   "metadata": {
    "scrolled": true
   },
   "outputs": [
    {
     "name": "stdout",
     "output_type": "stream",
     "text": [
      "Counter({'>=z': 13897, '<z explore': 8060, '<z exploit': 414})\n"
     ]
    },
    {
     "data": {
      "text/plain": [
       "24903.983333333337"
      ]
     },
     "execution_count": 195,
     "metadata": {},
     "output_type": "execute_result"
    },
    {
     "data": {
      "image/png": "[encoded data removed]",
      "text/plain": [
       "<Figure size 432x288 with 1 Axes>"
      ]
     },
     "metadata": {
      "needs_background": "light"
     },
     "output_type": "display_data"
    }
   ],
   "source": [
    "ezg = Epsilon_z_greedy(records=records, pool=pool, G=records.timestamp.value_counts())\n",
    "ezg.initialize()\n",
    "ezg.play(1000)\n",
    "ezg.rewards"
   ]
  },
  {
   "cell_type": "code",
   "execution_count": 40,
   "metadata": {},
   "outputs": [
    {
     "data": {
      "text/plain": [
       "(1317783600.0, 1317787250)"
      ]
     },
     "execution_count": 40,
     "metadata": {},
     "output_type": "execute_result"
    },
    {
     "data": {
      "image/png": "[encoded data removed]",
      "text/plain": [
       "<Figure size 432x288 with 1 Axes>"
      ]
     },
     "metadata": {
      "needs_background": "light"
     },
     "output_type": "display_data"
    }
   ],
   "source": [
    "pd.Series(ezg.G_).plot()\n",
    "plt.xlim(right=1317787250)"
   ]
  },
  {
   "cell_type": "markdown",
   "metadata": {},
   "source": [
    "### time bin: 30s"
   ]
  },
  {
   "cell_type": "code",
   "execution_count": 117,
   "metadata": {},
   "outputs": [
    {
     "name": "stdout",
     "output_type": "stream",
     "text": [
      "99\r"
     ]
    }
   ],
   "source": [
    "l1=[]\n",
    "l2=[]\n",
    "for i in range(100):\n",
    "    ezg = Epsilon_z_greedy(records=records30, pool=pool, G=records30.timestamp.value_counts())\n",
    "    ezg.initialize()\n",
    "    ezg.play(2000, z=845)\n",
    "    l1.append(ezg.rewards)\n",
    "\n",
    "    ezg2 = Epsilon_z_greedy(records=records30, pool=pool, G=records30.timestamp.value_counts())\n",
    "    ezg2.initialize()\n",
    "    ezg2.play(2000, z=None)\n",
    "    l2.append(ezg2.rewards)\n",
    "    \n",
    "    print(i, end='\\r', flush=True)"
   ]
  },
  {
   "cell_type": "code",
   "execution_count": 118,
   "metadata": {
    "scrolled": true
   },
   "outputs": [
    {
     "data": {
      "text/plain": [
       "Text(0.5, 1.0, 'reward distributions')"
      ]
     },
     "execution_count": 118,
     "metadata": {},
     "output_type": "execute_result"
    },
    {
     "data": {
      "image/png": "[encoded data removed]",
      "text/plain": [
       "<Figure size 432x288 with 1 Axes>"
      ]
     },
     "metadata": {
      "needs_background": "light"
     },
     "output_type": "display_data"
    }
   ],
   "source": [
    "sns.distplot(l1, label='epsilon-z greedy')\n",
    "sns.distplot(l2, label='epsilon greedy')\n",
    "plt.legend()\n",
    "plt.title('reward distributions')"
   ]
  },
  {
   "cell_type": "code",
   "execution_count": 119,
   "metadata": {},
   "outputs": [
    {
     "data": {
      "text/plain": [
       "Ttest_indResult(statistic=2.4262266053193, pvalue=0.016152710640750793)"
      ]
     },
     "execution_count": 119,
     "metadata": {},
     "output_type": "execute_result"
    }
   ],
   "source": [
    "ttest_ind(l1,l2)"
   ]
  },
  {
   "cell_type": "markdown",
   "metadata": {},
   "source": [
    "### time bin: 60s"
   ]
  },
  {
   "cell_type": "code",
   "execution_count": 70,
   "metadata": {},
   "outputs": [
    {
     "name": "stdout",
     "output_type": "stream",
     "text": [
      "99\r"
     ]
    }
   ],
   "source": [
    "l1=[]\n",
    "l2=[]\n",
    "for i in range(100):\n",
    "    ezg = Epsilon_z_greedy(records=records60, pool=pool, G=records60.timestamp.value_counts())\n",
    "    ezg.initialize()\n",
    "    ezg.play(2000, z=1680.5)\n",
    "    l1.append(ezg.rewards)\n",
    "\n",
    "    ezg2 = Epsilon_z_greedy(records=records60, pool=pool, G=records60.timestamp.value_counts())\n",
    "    ezg2.initialize()\n",
    "    ezg2.play(2000, z=None)\n",
    "    l2.append(ezg2.rewards)\n",
    "    \n",
    "    print(i, end='\\r', flush=True)"
   ]
  },
  {
   "cell_type": "code",
   "execution_count": 71,
   "metadata": {},
   "outputs": [
    {
     "data": {
      "text/plain": [
       "Text(0.5, 1.0, 'reward distributions')"
      ]
     },
     "execution_count": 71,
     "metadata": {},
     "output_type": "execute_result"
    },
    {
     "data": {
      "image/png": "[encoded data removed]",
      "text/plain": [
       "<Figure size 432x288 with 1 Axes>"
      ]
     },
     "metadata": {
      "needs_background": "light"
     },
     "output_type": "display_data"
    }
   ],
   "source": [
    "sns.distplot(l1, label='epsilon-z greedy')\n",
    "sns.distplot(l2, label='epsilon greedy')\n",
    "plt.legend()\n",
    "plt.title('reward distributions')"
   ]
  },
  {
   "cell_type": "code",
   "execution_count": 75,
   "metadata": {},
   "outputs": [
    {
     "data": {
      "text/plain": [
       "Ttest_indResult(statistic=3.006600079828002, pvalue=0.002984115030247832)"
      ]
     },
     "execution_count": 75,
     "metadata": {},
     "output_type": "execute_result"
    }
   ],
   "source": [
    "ttest_ind(l1,l2)"
   ]
  },
  {
   "cell_type": "code",
   "execution_count": 14,
   "metadata": {},
   "outputs": [
    {
     "data": {
      "text/plain": [
       "1980.416666666667"
      ]
     },
     "execution_count": 14,
     "metadata": {},
     "output_type": "execute_result"
    }
   ],
   "source": [
    "ezg = Epsilon_z_greedy()\n",
    "ezg.initialize()\n",
    "ezg.play(2000)\n",
    "ezg.rewards"
   ]
  },
  {
   "cell_type": "code",
   "execution_count": 15,
   "metadata": {},
   "outputs": [
    {
     "data": {
      "text/plain": [
       "(1317783600.0, 1317787250)"
      ]
     },
     "execution_count": 15,
     "metadata": {},
     "output_type": "execute_result"
    },
    {
     "data": {
      "image/png": "[encoded data removed]",
      "text/plain": [
       "<Figure size 432x288 with 1 Axes>"
      ]
     },
     "metadata": {
      "needs_background": "light"
     },
     "output_type": "display_data"
    }
   ],
   "source": [
    "pd.Series(ezg.G_).plot()\n",
    "plt.xlim(right=1317787250)"
   ]
  },
  {
   "cell_type": "code",
   "execution_count": 386,
   "metadata": {},
   "outputs": [
    {
     "data": {
      "text/plain": [
       "<matplotlib.axes._subplots.AxesSubplot at 0x1a34772080>"
      ]
     },
     "execution_count": 386,
     "metadata": {},
     "output_type": "execute_result"
    },
    {
     "data": {
      "image/png": "[encoded data removed]",
      "text/plain": [
       "<Figure size 432x288 with 1 Axes>"
      ]
     },
     "metadata": {
      "needs_background": "light"
     },
     "output_type": "display_data"
    }
   ],
   "source": [
    "pd.Series(ezg.G_).plot()"
   ]
  },
  {
   "cell_type": "code",
   "execution_count": 399,
   "metadata": {},
   "outputs": [
    {
     "data": {
      "text/plain": [
       "<matplotlib.axes._subplots.AxesSubplot at 0x1a36149d30>"
      ]
     },
     "execution_count": 399,
     "metadata": {},
     "output_type": "execute_result"
    },
    {
     "data": {
      "image/png": "[encoded data removed]",
      "text/plain": [
       "<Figure size 432x288 with 1 Axes>"
      ]
     },
     "metadata": {
      "needs_background": "light"
     },
     "output_type": "display_data"
    }
   ],
   "source": [
    "sns.distplot(pd.Series(ezg.G_))"
   ]
  },
  {
   "cell_type": "code",
   "execution_count": 45,
   "metadata": {},
   "outputs": [
    {
     "name": "stdout",
     "output_type": "stream",
     "text": [
      "99\r"
     ]
    }
   ],
   "source": [
    "l1=[]\n",
    "l2=[]\n",
    "for i in range(100):\n",
    "    ezg = Epsilon_z_greedy()\n",
    "    ezg.initialize()\n",
    "    ezg.play(2000)\n",
    "    l1.append(ezg.rewards)\n",
    "\n",
    "    ezg2 = Epsilon_z_greedy()\n",
    "    ezg2.initialize()\n",
    "    ezg2.play(2000, z=None) # vallina epsilon\n",
    "    l2.append(ezg2.rewards)\n",
    "    \n",
    "    print(i, end='\\r', flush=True)"
   ]
  },
  {
   "cell_type": "code",
   "execution_count": 46,
   "metadata": {},
   "outputs": [
    {
     "data": {
      "text/plain": [
       "Text(0.5, 1.0, 'reward distributions')"
      ]
     },
     "execution_count": 46,
     "metadata": {},
     "output_type": "execute_result"
    },
    {
     "data": {
      "image/png": "[encoded data removed]",
      "text/plain": [
       "<Figure size 432x288 with 1 Axes>"
      ]
     },
     "metadata": {
      "needs_background": "light"
     },
     "output_type": "display_data"
    }
   ],
   "source": [
    "sns.distplot(l1, label='epsilon-z greedy')\n",
    "sns.distplot(l2, label='epsilon greedy')\n",
    "plt.legend()\n",
    "plt.title('reward distributions')"
   ]
  },
  {
   "cell_type": "code",
   "execution_count": 264,
   "metadata": {},
   "outputs": [],
   "source": [
    "l3=[]\n",
    "for i in range(100):\n",
    "    ezg3 = Epsilon_z_greedy()\n",
    "    ezg3.initialize()\n",
    "    ezg3.play(2000)\n",
    "    l3.append(ezg3.rewards)"
   ]
  },
  {
   "cell_type": "code",
   "execution_count": 265,
   "metadata": {
    "scrolled": true
   },
   "outputs": [
    {
     "data": {
      "text/plain": [
       "Text(0.5, 1.0, 'reward distributions')"
      ]
     },
     "execution_count": 265,
     "metadata": {},
     "output_type": "execute_result"
    },
    {
     "data": {
      "image/png": "[encoded data removed]",
      "text/plain": [
       "<Figure size 432x288 with 1 Axes>"
      ]
     },
     "metadata": {
      "needs_background": "light"
     },
     "output_type": "display_data"
    }
   ],
   "source": [
    "sns.distplot(l3, label='epsilon-z greedy')\n",
    "sns.distplot(l2, label='epsilon greedy')\n",
    "plt.legend()\n",
    "plt.title('reward distributions')"
   ]
  },
  {
   "cell_type": "code",
   "execution_count": 48,
   "metadata": {},
   "outputs": [],
   "source": [
    "from scipy.stats import ttest_ind"
   ]
  },
  {
   "cell_type": "code",
   "execution_count": 323,
   "metadata": {},
   "outputs": [
    {
     "data": {
      "text/plain": [
       "Ttest_indResult(statistic=8.954170552891155, pvalue=2.511963777284569e-16)"
      ]
     },
     "execution_count": 323,
     "metadata": {},
     "output_type": "execute_result"
    }
   ],
   "source": [
    "ttest_ind(l3,l2)"
   ]
  }
 ],
 "metadata": {
  "kernelspec": {
   "display_name": "Python 3",
   "language": "python",
   "name": "python3"
  },
  "language_info": {
   "codemirror_mode": {
    "name": "ipython",
    "version": 3
   },
   "file_extension": ".py",
   "mimetype": "text/x-python",
   "name": "python",
   "nbconvert_exporter": "python",
   "pygments_lexer": "ipython3",
   "version": "3.6.8"
  }
 },
 "nbformat": 4,
 "nbformat_minor": 2
}
