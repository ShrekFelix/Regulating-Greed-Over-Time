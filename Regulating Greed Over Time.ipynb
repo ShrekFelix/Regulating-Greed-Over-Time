{
 "cells": [
  {
   "cell_type": "code",
   "execution_count": 1,
   "metadata": {},
   "outputs": [],
   "source": [
    "%load_ext line_profiler\n",
    "%matplotlib inline\n",
    "\n",
    "import numpy as np\n",
    "import pandas as pd\n",
    "import matplotlib.pyplot as plt\n",
    "import seaborn as sns\n",
    "\n",
    "import sys\n",
    "import time\n",
    "import pickle\n",
    "\n",
    "from collections import Counter, defaultdict, OrderedDict, namedtuple\n",
    "import random\n",
    "import copy\n",
    "import bisect\n",
    "import heapq\n",
    "\n",
    "import multiprocessing as mp\n",
    "from multiprocessing import Pool\n",
    "\n",
    "import warnings\n",
    "warnings.filterwarnings('error')"
   ]
  },
  {
   "cell_type": "code",
   "execution_count": 2,
   "metadata": {},
   "outputs": [],
   "source": [
    "records=pd.read_csv('data/ydata-fp-td-clicks-v2_0.20111005', \n",
    "                    sep=' ',\n",
    "                    names=['timestamp','id','clicked'],\n",
    "                    usecols=[0,1,2],)"
   ]
  },
  {
   "cell_type": "code",
   "execution_count": 3,
   "metadata": {
    "scrolled": true
   },
   "outputs": [
    {
     "data": {
      "text/html": [
       "<div>\n",
       "<style scoped>\n",
       "    .dataframe tbody tr th:only-of-type {\n",
       "        vertical-align: middle;\n",
       "    }\n",
       "\n",
       "    .dataframe tbody tr th {\n",
       "        vertical-align: top;\n",
       "    }\n",
       "\n",
       "    .dataframe thead th {\n",
       "        text-align: right;\n",
       "    }\n",
       "</style>\n",
       "<table border=\"1\" class=\"dataframe\">\n",
       "  <thead>\n",
       "    <tr style=\"text-align: right;\">\n",
       "      <th></th>\n",
       "      <th>timestamp</th>\n",
       "      <th>id</th>\n",
       "      <th>clicked</th>\n",
       "    </tr>\n",
       "  </thead>\n",
       "  <tbody>\n",
       "    <tr>\n",
       "      <th>0</th>\n",
       "      <td>1317772490</td>\n",
       "      <td>id-570650</td>\n",
       "      <td>0</td>\n",
       "    </tr>\n",
       "    <tr>\n",
       "      <th>1</th>\n",
       "      <td>1317772491</td>\n",
       "      <td>id-570332</td>\n",
       "      <td>0</td>\n",
       "    </tr>\n",
       "    <tr>\n",
       "      <th>2</th>\n",
       "      <td>1317772492</td>\n",
       "      <td>id-568437</td>\n",
       "      <td>0</td>\n",
       "    </tr>\n",
       "    <tr>\n",
       "      <th>3</th>\n",
       "      <td>1317772492</td>\n",
       "      <td>id-571362</td>\n",
       "      <td>0</td>\n",
       "    </tr>\n",
       "    <tr>\n",
       "      <th>4</th>\n",
       "      <td>1317772492</td>\n",
       "      <td>id-568890</td>\n",
       "      <td>0</td>\n",
       "    </tr>\n",
       "  </tbody>\n",
       "</table>\n",
       "</div>"
      ],
      "text/plain": [
       "    timestamp         id  clicked\n",
       "0  1317772490  id-570650        0\n",
       "1  1317772491  id-570332        0\n",
       "2  1317772492  id-568437        0\n",
       "3  1317772492  id-571362        0\n",
       "4  1317772492  id-568890        0"
      ]
     },
     "execution_count": 3,
     "metadata": {},
     "output_type": "execute_result"
    }
   ],
   "source": [
    "records.head()"
   ]
  },
  {
   "cell_type": "code",
   "execution_count": 4,
   "metadata": {},
   "outputs": [],
   "source": [
    "with open('save/lifespans','rb') as f:\n",
    "    lifespans = pickle.load(f)"
   ]
  },
  {
   "cell_type": "code",
   "execution_count": 5,
   "metadata": {
    "scrolled": true
   },
   "outputs": [
    {
     "name": "stdout",
     "output_type": "stream",
     "text": [
      "24 1317830699 1317783600 13.083055555555555\n"
     ]
    },
    {
     "data": {
      "text/plain": [
       "51"
      ]
     },
     "execution_count": 5,
     "metadata": {},
     "output_type": "execute_result"
    },
    {
     "data": {
      "image/png": "[encoded data removed]",
      "text/plain": [
       "<Figure size 432x288 with 1 Axes>"
      ]
     },
     "metadata": {
      "needs_background": "light"
     },
     "output_type": "display_data"
    }
   ],
   "source": [
    "#plt.figure(figsize=(10,20))\n",
    "y=0\n",
    "for start,stop in lifespans.values():\n",
    "    plt.hlines(y, xmin=start, xmax=stop)\n",
    "    #plt.scatter(np.arange(start,stop,1000),[y for j in range(start,stop,1000)], marker='.')\n",
    "    y+=1\n",
    "plt.xlabel('timestamp')\n",
    "plt.ylabel('article ids')\n",
    "plt.xlim(1317513291, 1318809293)\n",
    "plt.ylim(0,652)\n",
    "\n",
    "l=[] # min heap with items like: (stop, start, arm)\n",
    "global_max=0\n",
    "for i in lifespans.items():\n",
    "    arm=i[0]\n",
    "    start,stop=i[1]\n",
    "    while l and l[0][0]<start:\n",
    "        heapq.heappop(l)\n",
    "        if len(l)>=24:\n",
    "            min_stop=l[0][0]\n",
    "            max_start=max(l, key=lambda i:i[1])[1]\n",
    "            if min_stop-max_start>=3600*12:\n",
    "                plt.axvline(min_stop)\n",
    "                plt.axvline(max_start)\n",
    "                pool=[i[2] for i in l]\n",
    "                print(len(l), min_stop, max_start, (min_stop-max_start)/3600)\n",
    "    heapq.heappush(l,(stop,start,arm)) # min stop (earliest expiring)\n",
    "    \n",
    "    global_max=max(global_max, len(l))\n",
    "global_max"
   ]
  },
  {
   "cell_type": "code",
   "execution_count": 6,
   "metadata": {
    "scrolled": true
   },
   "outputs": [
    {
     "data": {
      "text/html": [
       "<div>\n",
       "<style scoped>\n",
       "    .dataframe tbody tr th:only-of-type {\n",
       "        vertical-align: middle;\n",
       "    }\n",
       "\n",
       "    .dataframe tbody tr th {\n",
       "        vertical-align: top;\n",
       "    }\n",
       "\n",
       "    .dataframe thead th {\n",
       "        text-align: right;\n",
       "    }\n",
       "</style>\n",
       "<table border=\"1\" class=\"dataframe\">\n",
       "  <thead>\n",
       "    <tr style=\"text-align: right;\">\n",
       "      <th></th>\n",
       "      <th>timestamp</th>\n",
       "      <th>id</th>\n",
       "      <th>clicked</th>\n",
       "    </tr>\n",
       "  </thead>\n",
       "  <tbody>\n",
       "    <tr>\n",
       "      <th>350160</th>\n",
       "      <td>1317783600</td>\n",
       "      <td>id-572194</td>\n",
       "      <td>0</td>\n",
       "    </tr>\n",
       "    <tr>\n",
       "      <th>350161</th>\n",
       "      <td>1317783600</td>\n",
       "      <td>id-572582</td>\n",
       "      <td>0</td>\n",
       "    </tr>\n",
       "    <tr>\n",
       "      <th>350162</th>\n",
       "      <td>1317783600</td>\n",
       "      <td>id-569364</td>\n",
       "      <td>0</td>\n",
       "    </tr>\n",
       "    <tr>\n",
       "      <th>350163</th>\n",
       "      <td>1317783600</td>\n",
       "      <td>id-569270</td>\n",
       "      <td>0</td>\n",
       "    </tr>\n",
       "    <tr>\n",
       "      <th>350164</th>\n",
       "      <td>1317783600</td>\n",
       "      <td>id-573053</td>\n",
       "      <td>0</td>\n",
       "    </tr>\n",
       "  </tbody>\n",
       "</table>\n",
       "</div>"
      ],
      "text/plain": [
       "         timestamp         id  clicked\n",
       "350160  1317783600  id-572194        0\n",
       "350161  1317783600  id-572582        0\n",
       "350162  1317783600  id-569364        0\n",
       "350163  1317783600  id-569270        0\n",
       "350164  1317783600  id-573053        0"
      ]
     },
     "execution_count": 6,
     "metadata": {},
     "output_type": "execute_result"
    }
   ],
   "source": [
    "start=records[records.timestamp==1317783600].index[0]\n",
    "stop=records[records.timestamp==1317830699].index[-1]\n",
    "slice=records.iloc[start:stop+1]\n",
    "slice.head()"
   ]
  },
  {
   "cell_type": "code",
   "execution_count": 11,
   "metadata": {},
   "outputs": [],
   "source": [
    "slice4 = pd.concat([slice,slice,slice,slice])"
   ]
  },
  {
   "cell_type": "code",
   "execution_count": 12,
   "metadata": {},
   "outputs": [],
   "source": [
    "slice4.index = range(len(slice4))"
   ]
  },
  {
   "cell_type": "code",
   "execution_count": 8,
   "metadata": {},
   "outputs": [],
   "source": [
    "class Epsilon_z_greedy:\n",
    "    def __init__(self, records=slice, pool=pool, G=slice.timestamp.value_counts()):\n",
    "        self.records = records.itertuples() # optimal speed, sub-optimal space\n",
    "        self.rewards = 0\n",
    "        self.pool = {}\n",
    "        self.G = G\n",
    "        for k in pool:\n",
    "            self.pool[k] = Arm()\n",
    "        self.best = None\n",
    "        self.prev_time = None\n",
    "        \n",
    "    def update(self, record):\n",
    "        self.rewards += record.clicked\n",
    "        arm = self.pool[record.id]\n",
    "        arm.rewards += record.clicked\n",
    "        arm.T += 1\n",
    "        arm.X = arm.rewards / arm.T\n",
    "        if not self.best: # first record\n",
    "            self.best = record.id\n",
    "        else:\n",
    "            if record.timestamp != self.prev_time:\n",
    "                #if record.id==self.best: # reselect the best arm\n",
    "                self.best = max(self.pool, key=lambda arm:self.pool[arm].X)\n",
    "                #else: # only need to compare current arm and original best arm\n",
    "                 #   self.best = max((self.best, record.id), key= lambda arm:self.pool[arm].X)\n",
    "        self.prev_time = record.timestamp\n",
    "                \n",
    "    def initialize(self, m=24):\n",
    "        i=0\n",
    "        while i<m:\n",
    "            record = next(self.records) # raise StopIteration\n",
    "            if record.id not in self.pool:\n",
    "                continue\n",
    "            if not self.pool[record.id].T: # not played\n",
    "                self.update(record)\n",
    "                i+=1\n",
    "    \n",
    "    def play(self, n, m=24, z=31, threshold=.3, mode='z'):\n",
    "        ez=[]\n",
    "        k=250 # k>4/(best.X-2ndBest.X)\n",
    "        self.t_ = 1\n",
    "        minG = float('inf')\n",
    "        for t in range(m, n):\n",
    "            while True: # keep feeding event stream until event matches desired action\n",
    "                \n",
    "                record = next(self.records) # raise StopIteration\n",
    "                if record.id not in self.pool:\n",
    "                    continue\n",
    "                                \n",
    "                if mode=='soft':\n",
    "                    minG = min(self.G[record.timestamp], minG)\n",
    "                    phi = np.log(1+1/self.G[record.timestamp]) / np.log(1+ 1/minG)\n",
    "                    epsilon = min(phi, k*m/t)\n",
    "                else:\n",
    "                    epsilon = min(1, k*m/self.t_)\n",
    "                if self.G[record.timestamp]<z and random.random()<epsilon:\n",
    "                    pick = random.choice(list(self.pool))\n",
    "                else:\n",
    "                    pick = self.best\n",
    "                #print(pick, record.id, record.timestamp, record.clicked)\n",
    "                if pick == record.id:\n",
    "                    ez.append(epsilon)\n",
    "                    self.update(record)\n",
    "                    if self.G[record.timestamp]<z:\n",
    "                        self.t_ += 1\n",
    "                    break\n",
    "        plt.plot(ez)"
   ]
  },
  {
   "cell_type": "code",
   "execution_count": 163,
   "metadata": {},
   "outputs": [
    {
     "data": {
      "image/png": "[encoded data removed]",
      "text/plain": [
       "<Figure size 432x288 with 1 Axes>"
      ]
     },
     "metadata": {
      "needs_background": "light"
     },
     "output_type": "display_data"
    }
   ],
   "source": [
    "ezg = Epsilon_z_greedy(slice4)\n",
    "ezg.initialize()\n",
    "ezg.play(10000,z=float('inf'))"
   ]
  },
  {
   "cell_type": "code",
   "execution_count": 150,
   "metadata": {},
   "outputs": [
    {
     "data": {
      "text/plain": [
       "763"
      ]
     },
     "execution_count": 150,
     "metadata": {},
     "output_type": "execute_result"
    }
   ],
   "source": [
    "ezg.rewards"
   ]
  },
  {
   "cell_type": "code",
   "execution_count": 341,
   "metadata": {},
   "outputs": [
    {
     "name": "stdout",
     "output_type": "stream",
     "text": [
      "99\r"
     ]
    }
   ],
   "source": [
    "l7=[]\n",
    "for i in range(100):\n",
    "    vp = Variable_Pool(slice4)\n",
    "    vp.initialize()\n",
    "    vp.play(10000)\n",
    "    l7.append(vp.rewards)\n",
    "    print(i, end='\\r', flush=True)"
   ]
  },
  {
   "cell_type": "code",
   "execution_count": 151,
   "metadata": {},
   "outputs": [
    {
     "name": "stdout",
     "output_type": "stream",
     "text": [
      "99\r"
     ]
    }
   ],
   "source": [
    "l1=[]\n",
    "l2=[]\n",
    "l3=[]\n",
    "for i in range(100):\n",
    "    ezg = Epsilon_z_greedy(slice4)\n",
    "    ezg.initialize()\n",
    "    ezg.play(10000)\n",
    "    l1.append(ezg.rewards)\n",
    "\n",
    "    ezg = Epsilon_z_greedy(slice4)\n",
    "    ezg.initialize()\n",
    "    ezg.play(10000, z=float('inf')) # vallina epsilon\n",
    "    l2.append(ezg.rewards)\n",
    "    \n",
    "    ezg = Epsilon_z_greedy(slice4)\n",
    "    ezg.initialize()\n",
    "    ezg.play(10000, mode='soft', z=float('inf'))\n",
    "    l3.append(ezg.rewards)\n",
    "    \n",
    "    print(i, end='\\r', flush=True)"
   ]
  },
  {
   "cell_type": "code",
   "execution_count": 344,
   "metadata": {},
   "outputs": [
    {
     "data": {
      "text/plain": [
       "<matplotlib.legend.Legend at 0x1a231346d8>"
      ]
     },
     "execution_count": 344,
     "metadata": {},
     "output_type": "execute_result"
    },
    {
     "data": {
      "image/png": "[encoded data removed]",
      "text/plain": [
       "<Figure size 432x288 with 1 Axes>"
      ]
     },
     "metadata": {
      "needs_background": "light"
     },
     "output_type": "display_data"
    }
   ],
   "source": [
    "sns.distplot(l1, label='Epsilon-z Greedy')\n",
    "sns.distplot(l2, label='Standard Epsilon Greedy')\n",
    "sns.distplot(l3, label='Soft Epsilon Greedy')\n",
    "sns.distplot(l7, label='Variable Pool')\n",
    "plt.legend()\n",
    "#plt.title('reward distributions')"
   ]
  },
  {
   "cell_type": "code",
   "execution_count": 348,
   "metadata": {},
   "outputs": [
    {
     "data": {
      "text/plain": [
       "Ttest_indResult(statistic=26.687693761568426, pvalue=1.6575688905150123e-67)"
      ]
     },
     "execution_count": 348,
     "metadata": {},
     "output_type": "execute_result"
    }
   ],
   "source": [
    "ttest_ind(l1,l2)"
   ]
  },
  {
   "cell_type": "code",
   "execution_count": 345,
   "metadata": {},
   "outputs": [
    {
     "data": {
      "text/plain": [
       "Ttest_indResult(statistic=34.99024059918462, pvalue=1.019698890484152e-86)"
      ]
     },
     "execution_count": 345,
     "metadata": {},
     "output_type": "execute_result"
    }
   ],
   "source": [
    "ttest_ind(l3,l2)"
   ]
  },
  {
   "cell_type": "code",
   "execution_count": 349,
   "metadata": {},
   "outputs": [
    {
     "data": {
      "text/plain": [
       "Ttest_indResult(statistic=56.1860113018189, pvalue=1.2419948856834873e-123)"
      ]
     },
     "execution_count": 349,
     "metadata": {},
     "output_type": "execute_result"
    }
   ],
   "source": [
    "ttest_ind(l7,l2)"
   ]
  },
  {
   "cell_type": "code",
   "execution_count": 9,
   "metadata": {},
   "outputs": [],
   "source": [
    "class Arm:\n",
    "    def __init__(self):\n",
    "        self.T = 0\n",
    "        self.rewards = 0\n",
    "        self.X = -1\n",
    "        self.ucb = float('inf')\n",
    "        self.soft_ucb = float('inf')\n",
    "    def __repr__(self):\n",
    "        return '{:.4f} {}/{} {} {}'.format(self.X, self.rewards, self.T, self.ucb, self.soft_ucb)"
   ]
  },
  {
   "cell_type": "code",
   "execution_count": 10,
   "metadata": {},
   "outputs": [],
   "source": [
    "class UCB_z:\n",
    "    def __init__(self, records, pool=pool):\n",
    "        self.records = records.itertuples() # optimal speed, sub-optimal space\n",
    "        self.rewards = 0\n",
    "        self.pool = {}\n",
    "        for k in pool:\n",
    "            self.pool[k] = Arm()\n",
    "        self.best = None\n",
    "        self.prev_time = None        \n",
    "        self.G = records.timestamp.value_counts() # estimation of G(t) counted from records\n",
    "        \n",
    "    def update(self, record):\n",
    "        arm = self.pool[record.id]\n",
    "        arm.rewards += record.clicked\n",
    "        arm.T += 1\n",
    "        arm.X = arm.rewards / arm.T\n",
    "        arm.ucb = arm.X + np.sqrt(2*np.log(self.t)/arm.T)\n",
    "        epsilon = (1 + self.t/self.G[record.timestamp])\n",
    "        arm.soft_ucb = arm.X + np.sqrt(2*np.log(epsilon)/arm.T)\n",
    "        self.rewards += record.clicked\n",
    "        if not self.best:\n",
    "            self.best = record.id\n",
    "        else:\n",
    "            if record.timestamp != self.prev_time:\n",
    "                self.best = max(self.pool, key=lambda arm:self.pool[arm].X)\n",
    "        self.prev_time = record.timestamp\n",
    "    \n",
    "    def play(self, n, z=31, mode='z'):\n",
    "        if mode=='soft':\n",
    "            z=float('inf')\n",
    "        self.t=1\n",
    "        while self.t<n:\n",
    "            try:\n",
    "                record = next(self.records) # raise StopIteration\n",
    "            except StopIteration:\n",
    "                print('running out of records at turn', self.t)\n",
    "                break\n",
    "            if record.id not in self.pool:\n",
    "                continue\n",
    "            if self.G[record.timestamp]<z:\n",
    "                if mode=='soft':\n",
    "                    pick = max(self.pool, key=lambda key:self.pool[key].soft_ucb )\n",
    "                else:\n",
    "                    pick = max(self.pool, key=lambda key:self.pool[key].ucb)\n",
    "            else:\n",
    "                #pick = max(self.pool, key=lambda key:self.pool[key].X)\n",
    "                pick = self.best\n",
    "                    \n",
    "            if pick == record.id: # historical action matches proposed action\n",
    "                self.update(record)\n",
    "                self.t+=1\n",
    "                "
   ]
  },
  {
   "cell_type": "code",
   "execution_count": 15,
   "metadata": {},
   "outputs": [
    {
     "data": {
      "text/plain": [
       "77"
      ]
     },
     "execution_count": 15,
     "metadata": {},
     "output_type": "execute_result"
    }
   ],
   "source": [
    "ucbz = UCB_z(records=slice4[:100000])\n",
    "#ucbz.initialize()\n",
    "ucbz.play(2000)\n",
    "ucbz.rewards"
   ]
  },
  {
   "cell_type": "code",
   "execution_count": 277,
   "metadata": {},
   "outputs": [
    {
     "data": {
      "text/plain": [
       "81"
      ]
     },
     "execution_count": 277,
     "metadata": {},
     "output_type": "execute_result"
    }
   ],
   "source": [
    "softz = UCB_z(records=slice4)\n",
    "#ucbz.initialize()\n",
    "softz.play(2000, mode='soft')\n",
    "softz.rewards"
   ]
  },
  {
   "cell_type": "code",
   "execution_count": 16,
   "metadata": {},
   "outputs": [
    {
     "data": {
      "text/plain": [
       "4152.92"
      ]
     },
     "execution_count": 16,
     "metadata": {},
     "output_type": "execute_result"
    }
   ],
   "source": [
    "(len(slice4)-100000)/100"
   ]
  },
  {
   "cell_type": "code",
   "execution_count": null,
   "metadata": {},
   "outputs": [],
   "source": []
  },
  {
   "cell_type": "code",
   "execution_count": 17,
   "metadata": {},
   "outputs": [
    {
     "name": "stdout",
     "output_type": "stream",
     "text": [
      "running out of records at turn 1981\n",
      "99\r"
     ]
    }
   ],
   "source": [
    "plt_ucbz=[]\n",
    "plt_ucb=[]\n",
    "plt_ucb_soft=[]\n",
    "data=slice4\n",
    "window_size = 100000\n",
    "step = 4000\n",
    "turns = 2000\n",
    "for i in range(100):\n",
    "    #print('ucbz')\n",
    "    ucbz = UCB_z(records=data[i*step:window_size+i*step])\n",
    "    ucbz.play(turns)\n",
    "    plt_ucbz.append(ucbz.rewards)\n",
    "    #print('ucb')\n",
    "    ucbz = UCB_z(records=data[i*step:window_size+i*step])\n",
    "    ucbz.play(turns, z=float('inf')) # \n",
    "    plt_ucb.append(ucbz.rewards)\n",
    "    #print('ucbz soft')\n",
    "    ucbz = UCB_z(records=data[i*step:window_size+i*step])\n",
    "    ucbz.play(turns, z=float('inf'), mode='soft')\n",
    "    plt_ucb_soft.append(ucbz.rewards)\n",
    "    \n",
    "    print(i, end='\\r', flush=True)"
   ]
  },
  {
   "cell_type": "code",
   "execution_count": null,
   "metadata": {},
   "outputs": [],
   "source": [
    "import pickle\n",
    "with open('save/plt_ucbz','wb') as f:\n",
    "    pickle.dump()"
   ]
  },
  {
   "cell_type": "code",
   "execution_count": 18,
   "metadata": {},
   "outputs": [
    {
     "data": {
      "text/plain": [
       "<matplotlib.legend.Legend at 0x1a1b418d30>"
      ]
     },
     "execution_count": 18,
     "metadata": {},
     "output_type": "execute_result"
    },
    {
     "data": {
      "image/png": "[encoded data removed]",
      "text/plain": [
       "<Figure size 432x288 with 1 Axes>"
      ]
     },
     "metadata": {
      "needs_background": "light"
     },
     "output_type": "display_data"
    }
   ],
   "source": [
    "sns.distplot(plt_ucbz, label='UCB-z')\n",
    "sns.distplot(plt_ucb, label='standard UCB')\n",
    "sns.distplot(plt_ucb_soft, label='soft UCB-z')\n",
    "plt.legend()"
   ]
  },
  {
   "cell_type": "code",
   "execution_count": 21,
   "metadata": {},
   "outputs": [
    {
     "data": {
      "text/plain": [
       "(0.03651, 0.03955, 0.044085)"
      ]
     },
     "execution_count": 21,
     "metadata": {},
     "output_type": "execute_result"
    }
   ],
   "source": [
    "sum(plt_ucb)/200000, sum(plt_ucb_soft)/200000, sum(plt_ucbz)/200000"
   ]
  },
  {
   "cell_type": "code",
   "execution_count": 289,
   "metadata": {
    "scrolled": true
   },
   "outputs": [
    {
     "data": {
      "text/plain": [
       "Text(0.5, 1.0, 'reward distributions')"
      ]
     },
     "execution_count": 289,
     "metadata": {},
     "output_type": "execute_result"
    },
    {
     "data": {
      "image/png": "[encoded data removed]",
      "text/plain": [
       "<Figure size 432x288 with 1 Axes>"
      ]
     },
     "metadata": {
      "needs_background": "light"
     },
     "output_type": "display_data"
    }
   ],
   "source": [
    "sns.distplot(l4, label='UCB-z')\n",
    "sns.distplot(l5, label='standard UCB')\n",
    "sns.distplot(l6, label='soft UCB-z')\n",
    "plt.legend()"
   ]
  },
  {
   "cell_type": "code",
   "execution_count": 71,
   "metadata": {},
   "outputs": [],
   "source": [
    "from scipy.stats import ttest_ind"
   ]
  },
  {
   "cell_type": "code",
   "execution_count": 290,
   "metadata": {},
   "outputs": [
    {
     "data": {
      "text/plain": [
       "Ttest_indResult(statistic=9.332750873492982, pvalue=2.142085453918517e-17)"
      ]
     },
     "execution_count": 290,
     "metadata": {},
     "output_type": "execute_result"
    }
   ],
   "source": [
    "ttest_ind(l4,l5)"
   ]
  },
  {
   "cell_type": "code",
   "execution_count": 291,
   "metadata": {},
   "outputs": [
    {
     "data": {
      "text/plain": [
       "Ttest_indResult(statistic=-4.612053568557072, pvalue=7.146170462902074e-06)"
      ]
     },
     "execution_count": 291,
     "metadata": {},
     "output_type": "execute_result"
    }
   ],
   "source": [
    "ttest_ind(l5,l6)"
   ]
  },
  {
   "cell_type": "code",
   "execution_count": 312,
   "metadata": {},
   "outputs": [],
   "source": [
    "class Variable_Pool:\n",
    "    def __init__(self, records, pool=pool):\n",
    "        self.records = records.itertuples() # optimal speed, sub-optimal space\n",
    "        self.G = records.timestamp.value_counts()\n",
    "        self.rewards = 0\n",
    "        self.pool = {}\n",
    "        self.rank = []\n",
    "        for k in pool:\n",
    "            self.rank.append(k)\n",
    "            self.pool[k] = Arm()        \n",
    "        self.prev_time = None\n",
    "        \n",
    "    def update(self, record):\n",
    "        self.rewards += record.clicked\n",
    "        arm = self.pool[record.id]\n",
    "        arm.rewards += record.clicked\n",
    "        arm.T += 1\n",
    "        arm.X = arm.rewards / arm.T\n",
    "\n",
    "        if record.timestamp != self.prev_time:\n",
    "            self.rank.sort(key=lambda article:self.pool[article].X, reverse=True)    \n",
    "        self.prev_time = record.timestamp\n",
    "                \n",
    "    def initialize(self, m=24):\n",
    "        i=0\n",
    "        while i<m:\n",
    "            record = next(self.records) # raise StopIteration\n",
    "            if record.id not in self.pool:\n",
    "                continue\n",
    "            if not self.pool[record.id].T: # not played\n",
    "                self.update(record)\n",
    "                i+=1\n",
    "    \n",
    "    def play(self, n, m=24, z=31, c=10):\n",
    "        self.mts={}\n",
    "        \n",
    "        k=250 # k>4/(best.X-2ndBest.X)\n",
    "        self.t_ = 1\n",
    "        for t in range(m, n):\n",
    "            while True: # keep feeding event stream until event matches desired action\n",
    "                \n",
    "                record = next(self.records) # raise StopIteration\n",
    "                if record.id not in self.pool:\n",
    "                    continue\n",
    "                                \n",
    "                mt = int(min(m, max(1, c*m / t*self.G[record.timestamp])))\n",
    "                self.mts[record.timestamp] = mt\n",
    "                pick = random.choice(self.rank[:mt])\n",
    "                #print(pick, record.id, record.timestamp, record.clicked)\n",
    "                if pick == record.id:\n",
    "                    self.update(record)\n",
    "                    if self.G[record.timestamp]<z:\n",
    "                        self.t_ += 1\n",
    "                    break\n"
   ]
  },
  {
   "cell_type": "code",
   "execution_count": 336,
   "metadata": {},
   "outputs": [],
   "source": [
    "vp = Variable_Pool(slice)\n",
    "vp.initialize()\n",
    "vp.play(2000)"
   ]
  },
  {
   "cell_type": "code",
   "execution_count": 337,
   "metadata": {},
   "outputs": [
    {
     "data": {
      "text/plain": [
       "101"
      ]
     },
     "execution_count": 337,
     "metadata": {},
     "output_type": "execute_result"
    }
   ],
   "source": [
    "vp.rewards"
   ]
  },
  {
   "cell_type": "code",
   "execution_count": null,
   "metadata": {},
   "outputs": [],
   "source": []
  }
 ],
 "metadata": {
  "kernelspec": {
   "display_name": "Python 3",
   "language": "python",
   "name": "python3"
  },
  "language_info": {
   "codemirror_mode": {
    "name": "ipython",
    "version": 3
   },
   "file_extension": ".py",
   "mimetype": "text/x-python",
   "name": "python",
   "nbconvert_exporter": "python",
   "pygments_lexer": "ipython3",
   "version": "3.6.8"
  }
 },
 "nbformat": 4,
 "nbformat_minor": 2
}
