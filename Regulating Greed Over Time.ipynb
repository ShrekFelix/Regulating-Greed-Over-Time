{
 "cells": [
  {
   "cell_type": "code",
   "execution_count": 1,
   "metadata": {},
   "outputs": [],
   "source": [
    "%load_ext line_profiler\n",
    "%matplotlib inline\n",
    "\n",
    "import numpy as np\n",
    "import pandas as pd\n",
    "import matplotlib.pyplot as plt\n",
    "import seaborn as sns\n",
    "\n",
    "import sys\n",
    "import time\n",
    "import pickle\n",
    "\n",
    "from collections import Counter, defaultdict, OrderedDict, namedtuple\n",
    "import random\n",
    "import copy\n",
    "import bisect\n",
    "import heapq\n",
    "\n",
    "import multiprocessing as mp\n",
    "from multiprocessing import Pool\n",
    "\n",
    "import warnings\n",
    "warnings.filterwarnings('error')"
   ]
  },
  {
   "cell_type": "code",
   "execution_count": 312,
   "metadata": {},
   "outputs": [],
   "source": [
    "records=pd.read_csv('data/ydata-fp-td-clicks-v2_0.20111016', \n",
    "                    sep=' ',\n",
    "                    names=['timestamp','id','clicked'],\n",
    "                    usecols=[0,1,2],)"
   ]
  },
  {
   "cell_type": "code",
   "execution_count": 313,
   "metadata": {
    "scrolled": true
   },
   "outputs": [
    {
     "data": {
      "text/html": [
       "<div>\n",
       "<style scoped>\n",
       "    .dataframe tbody tr th:only-of-type {\n",
       "        vertical-align: middle;\n",
       "    }\n",
       "\n",
       "    .dataframe tbody tr th {\n",
       "        vertical-align: top;\n",
       "    }\n",
       "\n",
       "    .dataframe thead th {\n",
       "        text-align: right;\n",
       "    }\n",
       "</style>\n",
       "<table border=\"1\" class=\"dataframe\">\n",
       "  <thead>\n",
       "    <tr style=\"text-align: right;\">\n",
       "      <th></th>\n",
       "      <th>timestamp</th>\n",
       "      <th>id</th>\n",
       "      <th>clicked</th>\n",
       "    </tr>\n",
       "  </thead>\n",
       "  <tbody>\n",
       "    <tr>\n",
       "      <th>0</th>\n",
       "      <td>1318722892</td>\n",
       "      <td>id-613505</td>\n",
       "      <td>0</td>\n",
       "    </tr>\n",
       "    <tr>\n",
       "      <th>1</th>\n",
       "      <td>1318722892</td>\n",
       "      <td>id-613546</td>\n",
       "      <td>0</td>\n",
       "    </tr>\n",
       "    <tr>\n",
       "      <th>2</th>\n",
       "      <td>1318722892</td>\n",
       "      <td>id-605423</td>\n",
       "      <td>0</td>\n",
       "    </tr>\n",
       "    <tr>\n",
       "      <th>3</th>\n",
       "      <td>1318722892</td>\n",
       "      <td>id-600025</td>\n",
       "      <td>0</td>\n",
       "    </tr>\n",
       "    <tr>\n",
       "      <th>4</th>\n",
       "      <td>1318722892</td>\n",
       "      <td>id-611479</td>\n",
       "      <td>0</td>\n",
       "    </tr>\n",
       "  </tbody>\n",
       "</table>\n",
       "</div>"
      ],
      "text/plain": [
       "    timestamp         id  clicked\n",
       "0  1318722892  id-613505        0\n",
       "1  1318722892  id-613546        0\n",
       "2  1318722892  id-605423        0\n",
       "3  1318722892  id-600025        0\n",
       "4  1318722892  id-611479        0"
      ]
     },
     "execution_count": 313,
     "metadata": {},
     "output_type": "execute_result"
    }
   ],
   "source": [
    "records.head()"
   ]
  },
  {
   "cell_type": "code",
   "execution_count": 314,
   "metadata": {},
   "outputs": [
    {
     "data": {
      "text/html": [
       "<div>\n",
       "<style scoped>\n",
       "    .dataframe tbody tr th:only-of-type {\n",
       "        vertical-align: middle;\n",
       "    }\n",
       "\n",
       "    .dataframe tbody tr th {\n",
       "        vertical-align: top;\n",
       "    }\n",
       "\n",
       "    .dataframe thead th {\n",
       "        text-align: right;\n",
       "    }\n",
       "</style>\n",
       "<table border=\"1\" class=\"dataframe\">\n",
       "  <thead>\n",
       "    <tr style=\"text-align: right;\">\n",
       "      <th></th>\n",
       "      <th>timestamp</th>\n",
       "      <th>id</th>\n",
       "      <th>clicked</th>\n",
       "    </tr>\n",
       "  </thead>\n",
       "  <tbody>\n",
       "    <tr>\n",
       "      <th>1292233</th>\n",
       "      <td>1318809293</td>\n",
       "      <td>id-611679</td>\n",
       "      <td>0</td>\n",
       "    </tr>\n",
       "    <tr>\n",
       "      <th>1292234</th>\n",
       "      <td>1318809293</td>\n",
       "      <td>id-610503</td>\n",
       "      <td>0</td>\n",
       "    </tr>\n",
       "    <tr>\n",
       "      <th>1292235</th>\n",
       "      <td>1318809293</td>\n",
       "      <td>id-614718</td>\n",
       "      <td>0</td>\n",
       "    </tr>\n",
       "    <tr>\n",
       "      <th>1292236</th>\n",
       "      <td>1318809293</td>\n",
       "      <td>id-611679</td>\n",
       "      <td>0</td>\n",
       "    </tr>\n",
       "    <tr>\n",
       "      <th>1292237</th>\n",
       "      <td>1318809293</td>\n",
       "      <td>id-614050</td>\n",
       "      <td>0</td>\n",
       "    </tr>\n",
       "  </tbody>\n",
       "</table>\n",
       "</div>"
      ],
      "text/plain": [
       "          timestamp         id  clicked\n",
       "1292233  1318809293  id-611679        0\n",
       "1292234  1318809293  id-610503        0\n",
       "1292235  1318809293  id-614718        0\n",
       "1292236  1318809293  id-611679        0\n",
       "1292237  1318809293  id-614050        0"
      ]
     },
     "execution_count": 314,
     "metadata": {},
     "output_type": "execute_result"
    }
   ],
   "source": [
    "records.tail()"
   ]
  },
  {
   "cell_type": "code",
   "execution_count": 24,
   "metadata": {},
   "outputs": [],
   "source": [
    "with open('save/lifespans','rb') as f:\n",
    "    lifespans = pickle.load(f)"
   ]
  },
  {
   "cell_type": "code",
   "execution_count": 307,
   "metadata": {
    "scrolled": true
   },
   "outputs": [
    {
     "name": "stdout",
     "output_type": "stream",
     "text": [
      "24 1317830699 1317783600 13.083055555555555\n",
      "20 1318789799 1318742700 13.083055555555555\n"
     ]
    },
    {
     "data": {
      "text/plain": [
       "51"
      ]
     },
     "execution_count": 307,
     "metadata": {},
     "output_type": "execute_result"
    },
    {
     "data": {
      "image/png": "[encoded data removed]",
      "text/plain": [
       "<Figure size 720x1440 with 1 Axes>"
      ]
     },
     "metadata": {
      "needs_background": "light"
     },
     "output_type": "display_data"
    }
   ],
   "source": [
    "plt.figure(figsize=(10,20))\n",
    "y=0\n",
    "for start,stop in lifespans.values():\n",
    "    plt.hlines(y, xmin=start, xmax=stop)\n",
    "    #plt.scatter(np.arange(start,stop,1000),[y for j in range(start,stop,1000)], marker='.')\n",
    "    y+=1\n",
    "plt.xlabel('timestamp')\n",
    "plt.ylabel('article ids')\n",
    "plt.xlim(1317513291, 1318809293)\n",
    "plt.ylim(0,652)\n",
    "\n",
    "l=[] # min heap with items like: (stop, start, arm)\n",
    "global_max=0\n",
    "for i in lifespans.items():\n",
    "    arm=i[0]\n",
    "    start,stop=i[1]\n",
    "    while l and l[0][0]<start:\n",
    "        heapq.heappop(l)\n",
    "        if len(l)>=20:\n",
    "            min_stop=l[0][0]\n",
    "            max_start=max(l, key=lambda i:i[1])[1]\n",
    "            if min_stop-max_start>=3600*12:\n",
    "                plt.axvline(min_stop)\n",
    "                plt.axvline(max_start)\n",
    "                pool=[i[2] for i in l]\n",
    "                print(len(l), min_stop, max_start, (min_stop-max_start)/3600)\n",
    "    heapq.heappush(l,(stop,start,arm)) # min stop (earliest expiring)\n",
    "    \n",
    "    global_max=max(global_max, len(l))\n",
    "global_max"
   ]
  },
  {
   "cell_type": "code",
   "execution_count": 316,
   "metadata": {
    "scrolled": true
   },
   "outputs": [
    {
     "data": {
      "text/html": [
       "<div>\n",
       "<style scoped>\n",
       "    .dataframe tbody tr th:only-of-type {\n",
       "        vertical-align: middle;\n",
       "    }\n",
       "\n",
       "    .dataframe tbody tr th {\n",
       "        vertical-align: top;\n",
       "    }\n",
       "\n",
       "    .dataframe thead th {\n",
       "        text-align: right;\n",
       "    }\n",
       "</style>\n",
       "<table border=\"1\" class=\"dataframe\">\n",
       "  <thead>\n",
       "    <tr style=\"text-align: right;\">\n",
       "      <th></th>\n",
       "      <th>timestamp</th>\n",
       "      <th>id</th>\n",
       "      <th>clicked</th>\n",
       "    </tr>\n",
       "  </thead>\n",
       "  <tbody>\n",
       "    <tr>\n",
       "      <th>369927</th>\n",
       "      <td>1318742700</td>\n",
       "      <td>id-611932</td>\n",
       "      <td>0</td>\n",
       "    </tr>\n",
       "    <tr>\n",
       "      <th>369928</th>\n",
       "      <td>1318742700</td>\n",
       "      <td>id-611585</td>\n",
       "      <td>0</td>\n",
       "    </tr>\n",
       "    <tr>\n",
       "      <th>369929</th>\n",
       "      <td>1318742700</td>\n",
       "      <td>id-611932</td>\n",
       "      <td>0</td>\n",
       "    </tr>\n",
       "    <tr>\n",
       "      <th>369930</th>\n",
       "      <td>1318742700</td>\n",
       "      <td>id-606207</td>\n",
       "      <td>0</td>\n",
       "    </tr>\n",
       "    <tr>\n",
       "      <th>369931</th>\n",
       "      <td>1318742700</td>\n",
       "      <td>id-613546</td>\n",
       "      <td>0</td>\n",
       "    </tr>\n",
       "    <tr>\n",
       "      <th>369932</th>\n",
       "      <td>1318742701</td>\n",
       "      <td>id-613856</td>\n",
       "      <td>0</td>\n",
       "    </tr>\n",
       "    <tr>\n",
       "      <th>369933</th>\n",
       "      <td>1318742701</td>\n",
       "      <td>id-614010</td>\n",
       "      <td>0</td>\n",
       "    </tr>\n",
       "    <tr>\n",
       "      <th>369934</th>\n",
       "      <td>1318742701</td>\n",
       "      <td>id-613546</td>\n",
       "      <td>0</td>\n",
       "    </tr>\n",
       "    <tr>\n",
       "      <th>369935</th>\n",
       "      <td>1318742701</td>\n",
       "      <td>id-611585</td>\n",
       "      <td>0</td>\n",
       "    </tr>\n",
       "    <tr>\n",
       "      <th>369936</th>\n",
       "      <td>1318742701</td>\n",
       "      <td>id-614016</td>\n",
       "      <td>0</td>\n",
       "    </tr>\n",
       "    <tr>\n",
       "      <th>369937</th>\n",
       "      <td>1318742701</td>\n",
       "      <td>id-613912</td>\n",
       "      <td>0</td>\n",
       "    </tr>\n",
       "    <tr>\n",
       "      <th>369938</th>\n",
       "      <td>1318742701</td>\n",
       "      <td>id-613404</td>\n",
       "      <td>0</td>\n",
       "    </tr>\n",
       "    <tr>\n",
       "      <th>369939</th>\n",
       "      <td>1318742701</td>\n",
       "      <td>id-611932</td>\n",
       "      <td>0</td>\n",
       "    </tr>\n",
       "    <tr>\n",
       "      <th>369940</th>\n",
       "      <td>1318742702</td>\n",
       "      <td>id-611775</td>\n",
       "      <td>0</td>\n",
       "    </tr>\n",
       "    <tr>\n",
       "      <th>369941</th>\n",
       "      <td>1318742702</td>\n",
       "      <td>id-613856</td>\n",
       "      <td>1</td>\n",
       "    </tr>\n",
       "    <tr>\n",
       "      <th>369942</th>\n",
       "      <td>1318742702</td>\n",
       "      <td>id-612378</td>\n",
       "      <td>0</td>\n",
       "    </tr>\n",
       "    <tr>\n",
       "      <th>369943</th>\n",
       "      <td>1318742702</td>\n",
       "      <td>id-610758</td>\n",
       "      <td>0</td>\n",
       "    </tr>\n",
       "    <tr>\n",
       "      <th>369944</th>\n",
       "      <td>1318742702</td>\n",
       "      <td>id-612378</td>\n",
       "      <td>1</td>\n",
       "    </tr>\n",
       "    <tr>\n",
       "      <th>369945</th>\n",
       "      <td>1318742702</td>\n",
       "      <td>id-613505</td>\n",
       "      <td>0</td>\n",
       "    </tr>\n",
       "    <tr>\n",
       "      <th>369946</th>\n",
       "      <td>1318742702</td>\n",
       "      <td>id-613912</td>\n",
       "      <td>0</td>\n",
       "    </tr>\n",
       "    <tr>\n",
       "      <th>369947</th>\n",
       "      <td>1318742702</td>\n",
       "      <td>id-611932</td>\n",
       "      <td>0</td>\n",
       "    </tr>\n",
       "    <tr>\n",
       "      <th>369948</th>\n",
       "      <td>1318742702</td>\n",
       "      <td>id-610351</td>\n",
       "      <td>0</td>\n",
       "    </tr>\n",
       "    <tr>\n",
       "      <th>369949</th>\n",
       "      <td>1318742702</td>\n",
       "      <td>id-613689</td>\n",
       "      <td>0</td>\n",
       "    </tr>\n",
       "    <tr>\n",
       "      <th>369950</th>\n",
       "      <td>1318742702</td>\n",
       "      <td>id-614016</td>\n",
       "      <td>0</td>\n",
       "    </tr>\n",
       "    <tr>\n",
       "      <th>369951</th>\n",
       "      <td>1318742703</td>\n",
       "      <td>id-606207</td>\n",
       "      <td>0</td>\n",
       "    </tr>\n",
       "    <tr>\n",
       "      <th>369952</th>\n",
       "      <td>1318742703</td>\n",
       "      <td>id-614010</td>\n",
       "      <td>0</td>\n",
       "    </tr>\n",
       "    <tr>\n",
       "      <th>369953</th>\n",
       "      <td>1318742703</td>\n",
       "      <td>id-614016</td>\n",
       "      <td>0</td>\n",
       "    </tr>\n",
       "    <tr>\n",
       "      <th>369954</th>\n",
       "      <td>1318742703</td>\n",
       "      <td>id-613505</td>\n",
       "      <td>0</td>\n",
       "    </tr>\n",
       "    <tr>\n",
       "      <th>369955</th>\n",
       "      <td>1318742703</td>\n",
       "      <td>id-614016</td>\n",
       "      <td>0</td>\n",
       "    </tr>\n",
       "    <tr>\n",
       "      <th>369956</th>\n",
       "      <td>1318742703</td>\n",
       "      <td>id-611775</td>\n",
       "      <td>0</td>\n",
       "    </tr>\n",
       "    <tr>\n",
       "      <th>...</th>\n",
       "      <td>...</td>\n",
       "      <td>...</td>\n",
       "      <td>...</td>\n",
       "    </tr>\n",
       "    <tr>\n",
       "      <th>798801</th>\n",
       "      <td>1318789798</td>\n",
       "      <td>id-605423</td>\n",
       "      <td>0</td>\n",
       "    </tr>\n",
       "    <tr>\n",
       "      <th>798802</th>\n",
       "      <td>1318789798</td>\n",
       "      <td>id-611585</td>\n",
       "      <td>0</td>\n",
       "    </tr>\n",
       "    <tr>\n",
       "      <th>798803</th>\n",
       "      <td>1318789798</td>\n",
       "      <td>id-606514</td>\n",
       "      <td>0</td>\n",
       "    </tr>\n",
       "    <tr>\n",
       "      <th>798804</th>\n",
       "      <td>1318789798</td>\n",
       "      <td>id-614499</td>\n",
       "      <td>0</td>\n",
       "    </tr>\n",
       "    <tr>\n",
       "      <th>798805</th>\n",
       "      <td>1318789798</td>\n",
       "      <td>id-613912</td>\n",
       "      <td>1</td>\n",
       "    </tr>\n",
       "    <tr>\n",
       "      <th>798806</th>\n",
       "      <td>1318789798</td>\n",
       "      <td>id-614508</td>\n",
       "      <td>0</td>\n",
       "    </tr>\n",
       "    <tr>\n",
       "      <th>798807</th>\n",
       "      <td>1318789798</td>\n",
       "      <td>id-611585</td>\n",
       "      <td>0</td>\n",
       "    </tr>\n",
       "    <tr>\n",
       "      <th>798808</th>\n",
       "      <td>1318789798</td>\n",
       "      <td>id-613241</td>\n",
       "      <td>0</td>\n",
       "    </tr>\n",
       "    <tr>\n",
       "      <th>798809</th>\n",
       "      <td>1318789798</td>\n",
       "      <td>id-613505</td>\n",
       "      <td>0</td>\n",
       "    </tr>\n",
       "    <tr>\n",
       "      <th>798810</th>\n",
       "      <td>1318789799</td>\n",
       "      <td>id-605423</td>\n",
       "      <td>0</td>\n",
       "    </tr>\n",
       "    <tr>\n",
       "      <th>798811</th>\n",
       "      <td>1318789799</td>\n",
       "      <td>id-611585</td>\n",
       "      <td>0</td>\n",
       "    </tr>\n",
       "    <tr>\n",
       "      <th>798812</th>\n",
       "      <td>1318789799</td>\n",
       "      <td>id-613689</td>\n",
       "      <td>0</td>\n",
       "    </tr>\n",
       "    <tr>\n",
       "      <th>798813</th>\n",
       "      <td>1318789799</td>\n",
       "      <td>id-614024</td>\n",
       "      <td>0</td>\n",
       "    </tr>\n",
       "    <tr>\n",
       "      <th>798814</th>\n",
       "      <td>1318789799</td>\n",
       "      <td>id-613689</td>\n",
       "      <td>0</td>\n",
       "    </tr>\n",
       "    <tr>\n",
       "      <th>798815</th>\n",
       "      <td>1318789799</td>\n",
       "      <td>id-596821</td>\n",
       "      <td>0</td>\n",
       "    </tr>\n",
       "    <tr>\n",
       "      <th>798816</th>\n",
       "      <td>1318789799</td>\n",
       "      <td>id-606207</td>\n",
       "      <td>0</td>\n",
       "    </tr>\n",
       "    <tr>\n",
       "      <th>798817</th>\n",
       "      <td>1318789799</td>\n",
       "      <td>id-613546</td>\n",
       "      <td>0</td>\n",
       "    </tr>\n",
       "    <tr>\n",
       "      <th>798818</th>\n",
       "      <td>1318789799</td>\n",
       "      <td>id-610758</td>\n",
       "      <td>0</td>\n",
       "    </tr>\n",
       "    <tr>\n",
       "      <th>798819</th>\n",
       "      <td>1318789799</td>\n",
       "      <td>id-613689</td>\n",
       "      <td>0</td>\n",
       "    </tr>\n",
       "    <tr>\n",
       "      <th>798820</th>\n",
       "      <td>1318789799</td>\n",
       "      <td>id-600025</td>\n",
       "      <td>0</td>\n",
       "    </tr>\n",
       "    <tr>\n",
       "      <th>798821</th>\n",
       "      <td>1318789799</td>\n",
       "      <td>id-612378</td>\n",
       "      <td>0</td>\n",
       "    </tr>\n",
       "    <tr>\n",
       "      <th>798822</th>\n",
       "      <td>1318789799</td>\n",
       "      <td>id-613856</td>\n",
       "      <td>0</td>\n",
       "    </tr>\n",
       "    <tr>\n",
       "      <th>798823</th>\n",
       "      <td>1318789799</td>\n",
       "      <td>id-610758</td>\n",
       "      <td>0</td>\n",
       "    </tr>\n",
       "    <tr>\n",
       "      <th>798824</th>\n",
       "      <td>1318789799</td>\n",
       "      <td>id-596821</td>\n",
       "      <td>0</td>\n",
       "    </tr>\n",
       "    <tr>\n",
       "      <th>798825</th>\n",
       "      <td>1318789799</td>\n",
       "      <td>id-614695</td>\n",
       "      <td>0</td>\n",
       "    </tr>\n",
       "    <tr>\n",
       "      <th>798826</th>\n",
       "      <td>1318789799</td>\n",
       "      <td>id-605423</td>\n",
       "      <td>0</td>\n",
       "    </tr>\n",
       "    <tr>\n",
       "      <th>798827</th>\n",
       "      <td>1318789799</td>\n",
       "      <td>id-614746</td>\n",
       "      <td>0</td>\n",
       "    </tr>\n",
       "    <tr>\n",
       "      <th>798828</th>\n",
       "      <td>1318789799</td>\n",
       "      <td>id-614506</td>\n",
       "      <td>0</td>\n",
       "    </tr>\n",
       "    <tr>\n",
       "      <th>798829</th>\n",
       "      <td>1318789799</td>\n",
       "      <td>id-610351</td>\n",
       "      <td>1</td>\n",
       "    </tr>\n",
       "    <tr>\n",
       "      <th>798830</th>\n",
       "      <td>1318789799</td>\n",
       "      <td>id-614718</td>\n",
       "      <td>0</td>\n",
       "    </tr>\n",
       "  </tbody>\n",
       "</table>\n",
       "<p>428904 rows × 3 columns</p>\n",
       "</div>"
      ],
      "text/plain": [
       "         timestamp         id  clicked\n",
       "369927  1318742700  id-611932        0\n",
       "369928  1318742700  id-611585        0\n",
       "369929  1318742700  id-611932        0\n",
       "369930  1318742700  id-606207        0\n",
       "369931  1318742700  id-613546        0\n",
       "369932  1318742701  id-613856        0\n",
       "369933  1318742701  id-614010        0\n",
       "369934  1318742701  id-613546        0\n",
       "369935  1318742701  id-611585        0\n",
       "369936  1318742701  id-614016        0\n",
       "369937  1318742701  id-613912        0\n",
       "369938  1318742701  id-613404        0\n",
       "369939  1318742701  id-611932        0\n",
       "369940  1318742702  id-611775        0\n",
       "369941  1318742702  id-613856        1\n",
       "369942  1318742702  id-612378        0\n",
       "369943  1318742702  id-610758        0\n",
       "369944  1318742702  id-612378        1\n",
       "369945  1318742702  id-613505        0\n",
       "369946  1318742702  id-613912        0\n",
       "369947  1318742702  id-611932        0\n",
       "369948  1318742702  id-610351        0\n",
       "369949  1318742702  id-613689        0\n",
       "369950  1318742702  id-614016        0\n",
       "369951  1318742703  id-606207        0\n",
       "369952  1318742703  id-614010        0\n",
       "369953  1318742703  id-614016        0\n",
       "369954  1318742703  id-613505        0\n",
       "369955  1318742703  id-614016        0\n",
       "369956  1318742703  id-611775        0\n",
       "...            ...        ...      ...\n",
       "798801  1318789798  id-605423        0\n",
       "798802  1318789798  id-611585        0\n",
       "798803  1318789798  id-606514        0\n",
       "798804  1318789798  id-614499        0\n",
       "798805  1318789798  id-613912        1\n",
       "798806  1318789798  id-614508        0\n",
       "798807  1318789798  id-611585        0\n",
       "798808  1318789798  id-613241        0\n",
       "798809  1318789798  id-613505        0\n",
       "798810  1318789799  id-605423        0\n",
       "798811  1318789799  id-611585        0\n",
       "798812  1318789799  id-613689        0\n",
       "798813  1318789799  id-614024        0\n",
       "798814  1318789799  id-613689        0\n",
       "798815  1318789799  id-596821        0\n",
       "798816  1318789799  id-606207        0\n",
       "798817  1318789799  id-613546        0\n",
       "798818  1318789799  id-610758        0\n",
       "798819  1318789799  id-613689        0\n",
       "798820  1318789799  id-600025        0\n",
       "798821  1318789799  id-612378        0\n",
       "798822  1318789799  id-613856        0\n",
       "798823  1318789799  id-610758        0\n",
       "798824  1318789799  id-596821        0\n",
       "798825  1318789799  id-614695        0\n",
       "798826  1318789799  id-605423        0\n",
       "798827  1318789799  id-614746        0\n",
       "798828  1318789799  id-614506        0\n",
       "798829  1318789799  id-610351        1\n",
       "798830  1318789799  id-614718        0\n",
       "\n",
       "[428904 rows x 3 columns]"
      ]
     },
     "execution_count": 316,
     "metadata": {},
     "output_type": "execute_result"
    }
   ],
   "source": [
    "start=records[records.timestamp==1318742700].index[0]\n",
    "stop=records[records.timestamp==1318789799].index[-1]\n",
    "slice=records.iloc[start:stop+1]\n",
    "slice"
   ]
  },
  {
   "cell_type": "code",
   "execution_count": 317,
   "metadata": {},
   "outputs": [
    {
     "data": {
      "text/plain": [
       "<matplotlib.axes._subplots.AxesSubplot at 0x1a2ed26f98>"
      ]
     },
     "execution_count": 317,
     "metadata": {},
     "output_type": "execute_result"
    },
    {
     "data": {
      "image/png": "[encoded data removed]",
      "text/plain": [
       "<Figure size 432x288 with 1 Axes>"
      ]
     },
     "metadata": {
      "needs_background": "light"
     },
     "output_type": "display_data"
    }
   ],
   "source": [
    "sns.distplot(slice.timestamp.value_counts())"
   ]
  },
  {
   "cell_type": "code",
   "execution_count": 319,
   "metadata": {},
   "outputs": [
    {
     "data": {
      "text/plain": [
       "<matplotlib.axes._subplots.AxesSubplot at 0x1a2ee40dd8>"
      ]
     },
     "execution_count": 319,
     "metadata": {},
     "output_type": "execute_result"
    },
    {
     "data": {
      "image/png": "[encoded data removed]",
      "text/plain": [
       "<Figure size 432x288 with 1 Axes>"
      ]
     },
     "metadata": {
      "needs_background": "light"
     },
     "output_type": "display_data"
    }
   ],
   "source": [
    "sns.distplot(records.timestamp)"
   ]
  },
  {
   "cell_type": "code",
   "execution_count": 318,
   "metadata": {
    "scrolled": true
   },
   "outputs": [
    {
     "data": {
      "text/plain": [
       "<matplotlib.axes._subplots.AxesSubplot at 0x1a2eebb518>"
      ]
     },
     "execution_count": 318,
     "metadata": {},
     "output_type": "execute_result"
    },
    {
     "data": {
      "image/png": "[encoded data removed]",
      "text/plain": [
       "<Figure size 432x288 with 1 Axes>"
      ]
     },
     "metadata": {
      "needs_background": "light"
     },
     "output_type": "display_data"
    }
   ],
   "source": [
    "sns.distplot(slice.timestamp)"
   ]
  },
  {
   "cell_type": "code",
   "execution_count": 289,
   "metadata": {},
   "outputs": [
    {
     "data": {
      "text/plain": [
       "<matplotlib.collections.PathCollection at 0x1a26129048>"
      ]
     },
     "execution_count": 289,
     "metadata": {},
     "output_type": "execute_result"
    },
    {
     "data": {
      "image/png": "[encoded data removed]",
      "text/plain": [
       "<Figure size 432x288 with 1 Axes>"
      ]
     },
     "metadata": {
      "needs_background": "light"
     },
     "output_type": "display_data"
    }
   ],
   "source": [
    "plt.scatter(slice.timestamp.value_counts().index, slice.timestamp.value_counts().values, marker='.')"
   ]
  },
  {
   "cell_type": "code",
   "execution_count": 129,
   "metadata": {},
   "outputs": [
    {
     "data": {
      "text/plain": [
       "count    5038.000000\n",
       "mean       25.570266\n",
       "std         8.608354\n",
       "min         1.000000\n",
       "25%        21.000000\n",
       "50%        26.000000\n",
       "75%        31.000000\n",
       "max        57.000000\n",
       "Name: timestamp, dtype: float64"
      ]
     },
     "execution_count": 129,
     "metadata": {},
     "output_type": "execute_result"
    }
   ],
   "source": [
    "slice.timestamp.value_counts().describe()"
   ]
  },
  {
   "cell_type": "code",
   "execution_count": 164,
   "metadata": {},
   "outputs": [],
   "source": [
    "class Arm:\n",
    "    def __init__(self):\n",
    "        self.T = 0\n",
    "        self.rewards = 0\n",
    "        self.X = -1\n",
    "    def __repr__(self):\n",
    "        return '{:.4f} {}/{}'.format(self.X, self.rewards, self.T)\n",
    "    "
   ]
  },
  {
   "cell_type": "code",
   "execution_count": 262,
   "metadata": {},
   "outputs": [],
   "source": [
    "class Epsilon_z_greedy:\n",
    "    def __init__(self, records=slice, pool=pool, G=slice.timestamp.value_counts()):\n",
    "        self.records = records.itertuples() # optimal speed, sub-optimal space\n",
    "        self.rewards = 0\n",
    "        self.pool = {}\n",
    "        self.G = G\n",
    "        for k in pool:\n",
    "            self.pool[k] = Arm()\n",
    "        self.best = None\n",
    "        self.prev_time = None\n",
    "        \n",
    "    def update(self, record):\n",
    "        self.rewards += record.clicked\n",
    "        self.pool[record.id].rewards += record.clicked\n",
    "        self.pool[record.id].T += 1\n",
    "        self.pool[record.id].X = self.pool[record.id].rewards / self.pool[record.id].T\n",
    "        if not self.best:\n",
    "            self.best = record.id\n",
    "        else:\n",
    "            self.best = max((self.best, record.id), key= lambda arm:self.pool[arm].X)\n",
    "                \n",
    "    def initialize(self, m=24):\n",
    "        i=0\n",
    "        while i<m:\n",
    "            try:\n",
    "                record = next(self.records) # raise StopIteration\n",
    "            except StopIteration as si:\n",
    "                print(si, record)\n",
    "                return\n",
    "            if record.id not in self.pool:\n",
    "                continue\n",
    "            if not self.pool[record.id].T: # not played\n",
    "                self.update(record)\n",
    "                i+=1\n",
    "    \n",
    "    def play(self, n, m=24, z=31, threshold=.3):\n",
    "        k=250 # k>4/(best.X-2ndBest.X)\n",
    "        self.t_ = 1\n",
    "        for t in range(n):\n",
    "            while True: # keep feeding event stream until event matches desired action\n",
    "                try:\n",
    "                    record = next(self.records) # raise StopIteration\n",
    "                except StopIteration as si:\n",
    "                    print(si, record)\n",
    "                    return\n",
    "                if record.id not in self.pool:\n",
    "                    continue\n",
    "                    \n",
    "                if record.timestamp == self.prev_time: # still in the last time bin\n",
    "                    pick = self.prev_pick # lock recommendation\n",
    "                else: # entering a new time bin\n",
    "                    epsilon = min(1, k*m/self.t_)\n",
    "                    if self.G[record.timestamp]<z and random.random()<epsilon:\n",
    "                        pick = random.choice(list(self.pool))\n",
    "                    else:\n",
    "                        pick = self.best\n",
    "\n",
    "                if pick == record.id:\n",
    "                    self.update(record)\n",
    "                    self.prev_pick = pick\n",
    "                    self.prev_time = record.timestamp\n",
    "                    if self.G[record.timestamp]<z:\n",
    "                        self.t_ += 1\n",
    "                    break"
   ]
  },
  {
   "cell_type": "code",
   "execution_count": 263,
   "metadata": {},
   "outputs": [
    {
     "data": {
      "text/plain": [
       "96"
      ]
     },
     "execution_count": 263,
     "metadata": {},
     "output_type": "execute_result"
    }
   ],
   "source": [
    "ezg = Epsilon_z_greedy()\n",
    "ezg.initialize()\n",
    "ezg.play(2000)\n",
    "ezg.rewards"
   ]
  },
  {
   "cell_type": "code",
   "execution_count": 223,
   "metadata": {},
   "outputs": [
    {
     "data": {
      "text/plain": [
       "85"
      ]
     },
     "execution_count": 223,
     "metadata": {},
     "output_type": "execute_result"
    }
   ],
   "source": [
    "ezg2 = Epsilon_z_greedy()\n",
    "ezg2.initialize()\n",
    "ezg2.play(2000, z=100)\n",
    "ezg2.rewards"
   ]
  },
  {
   "cell_type": "code",
   "execution_count": 228,
   "metadata": {},
   "outputs": [
    {
     "data": {
      "text/plain": [
       "240.9638554216868"
      ]
     },
     "execution_count": 228,
     "metadata": {},
     "output_type": "execute_result"
    }
   ],
   "source": [
    "4/(0.0746-0.058)"
   ]
  },
  {
   "cell_type": "code",
   "execution_count": 221,
   "metadata": {
    "scrolled": true
   },
   "outputs": [
    {
     "data": {
      "text/plain": [
       "{'id-573268': 0.0444 2/45,\n",
       " 'id-571050': 0.0000 0/35,\n",
       " 'id-571679': 0.0000 0/50,\n",
       " 'id-568437': 0.0500 2/40,\n",
       " 'id-571956': 0.0000 0/50,\n",
       " 'id-569417': 0.0000 0/58,\n",
       " 'id-572582': 0.0535 16/299,\n",
       " 'id-571705': 0.0580 4/69,\n",
       " 'id-573053': 0.0000 0/51,\n",
       " 'id-569065': 0.0515 12/233,\n",
       " 'id-572112': 0.0746 35/469,\n",
       " 'id-572263': 0.0196 1/51,\n",
       " 'id-571469': 0.0227 1/44,\n",
       " 'id-571880': 0.0000 0/43,\n",
       " 'id-573391': 0.0238 1/42,\n",
       " 'id-570846': 0.0217 1/46,\n",
       " 'id-573039': 0.0000 0/50,\n",
       " 'id-573241': 0.0476 2/42,\n",
       " 'id-569364': 0.0000 0/45,\n",
       " 'id-569088': 0.0222 1/45,\n",
       " 'id-572219': 0.0556 6/108,\n",
       " 'id-564492': 0.0000 0/32,\n",
       " 'id-573243': 0.0323 1/31,\n",
       " 'id-572825': 0.0435 2/46}"
      ]
     },
     "execution_count": 221,
     "metadata": {},
     "output_type": "execute_result"
    }
   ],
   "source": [
    "ezg.pool"
   ]
  },
  {
   "cell_type": "code",
   "execution_count": 231,
   "metadata": {},
   "outputs": [
    {
     "name": "stdout",
     "output_type": "stream",
     "text": [
      "99\r"
     ]
    }
   ],
   "source": [
    "l1=[]\n",
    "l2=[]\n",
    "for i in range(100):\n",
    "    ezg = Epsilon_z_greedy()\n",
    "    ezg.initialize()\n",
    "    ezg.play(2000)\n",
    "    l1.append(ezg.rewards)\n",
    "\n",
    "    ezg2 = Epsilon_z_greedy()\n",
    "    ezg2.initialize()\n",
    "    ezg2.play(2000, z=100)\n",
    "    l2.append(ezg2.rewards)\n",
    "    \n",
    "    print(i, end='\\r', flush=True)"
   ]
  },
  {
   "cell_type": "code",
   "execution_count": 232,
   "metadata": {},
   "outputs": [
    {
     "data": {
      "text/plain": [
       "Text(0.5, 1.0, 'reward distributions')"
      ]
     },
     "execution_count": 232,
     "metadata": {},
     "output_type": "execute_result"
    },
    {
     "data": {
      "image/png": "[encoded data removed]",
      "text/plain": [
       "<Figure size 432x288 with 1 Axes>"
      ]
     },
     "metadata": {
      "needs_background": "light"
     },
     "output_type": "display_data"
    }
   ],
   "source": [
    "sns.distplot(l1, label='epsilon-z greedy')\n",
    "sns.distplot(l2, label='epsilon greedy')\n",
    "plt.legend()\n",
    "plt.title('reward distributions')"
   ]
  },
  {
   "cell_type": "code",
   "execution_count": 264,
   "metadata": {},
   "outputs": [],
   "source": [
    "l3=[]\n",
    "for i in range(100):\n",
    "    ezg3 = Epsilon_z_greedy()\n",
    "    ezg3.initialize()\n",
    "    ezg3.play(2000)\n",
    "    l3.append(ezg3.rewards)"
   ]
  },
  {
   "cell_type": "code",
   "execution_count": 265,
   "metadata": {
    "scrolled": true
   },
   "outputs": [
    {
     "data": {
      "text/plain": [
       "Text(0.5, 1.0, 'reward distributions')"
      ]
     },
     "execution_count": 265,
     "metadata": {},
     "output_type": "execute_result"
    },
    {
     "data": {
      "image/png": "[encoded data removed]",
      "text/plain": [
       "<Figure size 432x288 with 1 Axes>"
      ]
     },
     "metadata": {
      "needs_background": "light"
     },
     "output_type": "display_data"
    }
   ],
   "source": [
    "sns.distplot(l3, label='epsilon-z greedy')\n",
    "sns.distplot(l2, label='epsilon greedy')\n",
    "plt.legend()\n",
    "plt.title('reward distributions')"
   ]
  },
  {
   "cell_type": "code",
   "execution_count": null,
   "metadata": {},
   "outputs": [],
   "source": []
  }
 ],
 "metadata": {
  "kernelspec": {
   "display_name": "Python 3",
   "language": "python",
   "name": "python3"
  },
  "language_info": {
   "codemirror_mode": {
    "name": "ipython",
    "version": 3
   },
   "file_extension": ".py",
   "mimetype": "text/x-python",
   "name": "python",
   "nbconvert_exporter": "python",
   "pygments_lexer": "ipython3",
   "version": "3.6.8"
  }
 },
 "nbformat": 4,
 "nbformat_minor": 2
}
